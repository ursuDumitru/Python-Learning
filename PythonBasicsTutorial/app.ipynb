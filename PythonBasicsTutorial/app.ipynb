{
 "cells": [
  {
   "cell_type": "markdown",
   "metadata": {},
   "source": [
    "1. Variables, Basic Types and print()"
   ]
  },
  {
   "cell_type": "code",
   "execution_count": 1,
   "metadata": {},
   "outputs": [
    {
     "name": "stdout",
     "output_type": "stream",
     "text": [
      "Hello Dumitru!\n",
      "20\n"
     ]
    }
   ],
   "source": [
    "# print(\"Hello Dumitru!\")\n",
    "print('Hello Dumitru!') # same as the above\n",
    "\n",
    "age = 20\n",
    "price = 21.22\n",
    "first_name = \"Dumitru\"\n",
    "is_true = True # with capital letter\n",
    "\n",
    "print(age)"
   ]
  },
  {
   "cell_type": "markdown",
   "metadata": {},
   "source": [
    "\n",
    "2. Inputting"
   ]
  },
  {
   "cell_type": "code",
   "execution_count": null,
   "metadata": {},
   "outputs": [],
   "source": [
    "name = input(\"What is yout name ? \")\n",
    "print('Hello, ' + name)"
   ]
  },
  {
   "cell_type": "markdown",
   "metadata": {},
   "source": [
    "\n",
    "3. Primitive Data Type Conversion"
   ]
  },
  {
   "cell_type": "code",
   "execution_count": null,
   "metadata": {},
   "outputs": [],
   "source": [
    "birth_year = input('Enter your birthday year: ') # input returns a string value\n",
    "# int(birth_year) # this doesn't change birth_year to int but returns the equivalent int value\n",
    "\n",
    "age = 2023 - int(birth_year)\n",
    "# float()\n",
    "# bool()\n",
    "# str()\n",
    "\n",
    "print('Your age is : ' + str(age))\n",
    "# print('Your age is ' + age) # this doesn't work [can only concatenate str (not \"int\") to str]"
   ]
  },
  {
   "cell_type": "markdown",
   "metadata": {},
   "source": [
    "\n",
    "4. Mini-Calculator"
   ]
  },
  {
   "cell_type": "code",
   "execution_count": null,
   "metadata": {},
   "outputs": [],
   "source": [
    "first = input(\"First: \")\n",
    "second = input(\"Second: \")\n",
    "\n",
    "# sum = first + second # this concatinates first and second -> \"1\" + \"2\" => \"12\"\n",
    "# sum = int(first) + int(second) # works\n",
    "sum = float(first) + float(second)\n",
    "print(\"Sum = \" + str(sum))"
   ]
  },
  {
   "cell_type": "code",
   "execution_count": null,
   "metadata": {},
   "outputs": [],
   "source": [
    "first = float(input(\"First: \"))\n",
    "second = float(input(\"Second: \"))\n",
    "\n",
    "sum = first + second\n",
    "print(\"Sum = \" + str(sum))"
   ]
  },
  {
   "cell_type": "markdown",
   "metadata": {},
   "source": [
    "\n",
    "5. Operations on strings\n",
    "\n",
    "functions done on string do not modify the original\n",
    "string variable, but return a modified value"
   ]
  },
  {
   "cell_type": "code",
   "execution_count": null,
   "metadata": {},
   "outputs": [],
   "source": [
    "string = 'Python for Beginners'\n",
    "print(string.upper())\n",
    "print(string)"
   ]
  },
  {
   "cell_type": "code",
   "execution_count": null,
   "metadata": {},
   "outputs": [],
   "source": [
    "string = 'Python for Beginners'\n",
    "print(string.lower())\n",
    "print(string)"
   ]
  },
  {
   "cell_type": "code",
   "execution_count": null,
   "metadata": {},
   "outputs": [],
   "source": [
    "string = 'Python for Beginners'\n",
    "print(string.find('f'))\n",
    "print(string.find(\"n\")) # just the first occurence\n",
    "print(string)"
   ]
  },
  {
   "cell_type": "markdown",
   "metadata": {},
   "source": [
    "\n",
    "6. Logical operators"
   ]
  },
  {
   "cell_type": "code",
   "execution_count": null,
   "metadata": {},
   "outputs": [],
   "source": [
    "price = 25\n",
    "print(price > 10)\n",
    "print(price > 10 and price < 30)\n",
    "print(price > 10 or price < 20)\n",
    "print(not price > 10)\n",
    "print(price == 25)\n",
    "print(price != 10)"
   ]
  },
  {
   "cell_type": "markdown",
   "metadata": {},
   "source": [
    "\n",
    "7. If statement"
   ]
  },
  {
   "cell_type": "code",
   "execution_count": null,
   "metadata": {},
   "outputs": [],
   "source": [
    "temperature = int(input(\"Give today's temperature : \"))\n",
    "\n",
    "# if temperature > 30 : # this is possible too\n",
    "if temperature > 30:\n",
    "    print(\"It's a hot day\")\n",
    "    print(\"Drink water\")\n",
    "elif temperature > 20: # (20, 30]\n",
    "    print(\"It's a nice day\")\n",
    "elif temperature > 10: # (10, 20]\n",
    "    print(\"It's a bit cold today\")\n",
    "# works with spaces in between\n",
    "else:\n",
    "    print(\"It's cold today\")\n",
    "\n",
    "print(\"Done\")"
   ]
  },
  {
   "cell_type": "markdown",
   "metadata": {},
   "source": [
    "\n",
    "8. Degrees Convertor"
   ]
  },
  {
   "cell_type": "code",
   "execution_count": null,
   "metadata": {},
   "outputs": [],
   "source": [
    "weight = float(input(\"Weight: \"))\n",
    "unit = input(\"(K)g or (L)bs: \")\n",
    "\n",
    "if unit.upper() == \"K\":\n",
    "    converted = weight / 0.45\n",
    "    print(str(weight) + \" Kg in Lbs : \" + str(converted))\n",
    "elif unit.upper() == \"L\":\n",
    "    converted = weight * 0.45\n",
    "    print(str(weight) + \" Lbs in Kg: \" + str(converted))\n",
    "else:\n",
    "    print(\"Unkown unit type !\")"
   ]
  },
  {
   "cell_type": "markdown",
   "metadata": {},
   "source": [
    "\n",
    "9. While loop"
   ]
  },
  {
   "cell_type": "code",
   "execution_count": 4,
   "metadata": {},
   "outputs": [
    {
     "name": "stdout",
     "output_type": "stream",
     "text": [
      "0\n",
      "100\n",
      "200\n",
      "300\n",
      "400\n",
      "500\n",
      "600\n",
      "700\n",
      "800\n",
      "900\n",
      "1000\n",
      "Done\n"
     ]
    }
   ],
   "source": [
    "i = 0\n",
    "\n",
    "# while i <= 5:\n",
    "while i <= 1_000: # same as 1000 but much readable\n",
    "    print(i)\n",
    "    i += 100\n",
    "    # i = i + 1\n",
    "\n",
    "print(\"Done\")"
   ]
  },
  {
   "cell_type": "code",
   "execution_count": 5,
   "metadata": {},
   "outputs": [
    {
     "name": "stdout",
     "output_type": "stream",
     "text": [
      "*\n",
      "**\n",
      "***\n",
      "****\n",
      "*****\n",
      "******\n",
      "*******\n",
      "********\n",
      "*********\n",
      "**********\n",
      "Done\n"
     ]
    }
   ],
   "source": [
    "i = 1\n",
    "\n",
    "while i <= 10:\n",
    "    print(i * '*') # prints the char 'i' times\n",
    "    # print(i * \"*\")\n",
    "    i += 1\n",
    "\n",
    "print(\"Done\")"
   ]
  },
  {
   "cell_type": "markdown",
   "metadata": {},
   "source": [
    "\n",
    "10. Lists, Complex Types"
   ]
  },
  {
   "cell_type": "code",
   "execution_count": 16,
   "metadata": {},
   "outputs": [
    {
     "name": "stdout",
     "output_type": "stream",
     "text": [
      "['Cristi', 'Bob', 'Dumitru', 'Danu']\n",
      "Cristi\n",
      "Danu\n",
      "Dumitru\n",
      "Dumitru\n",
      "\n",
      "['Cristi', 'Bob', 'Dumitru']\n"
     ]
    }
   ],
   "source": [
    "names = [\"John\", \"Bob\", \"Dumitru\", 'Danu']\n",
    "\n",
    "names[0] = \"Cristi\"\n",
    "\n",
    "print(names)\n",
    "print(names[0])\n",
    "print(names[-1])\n",
    "print(names[-2])\n",
    "print(names[2])\n",
    "print()\n",
    "\n",
    "print(names[0:3]) # prints a new list that contains [0, 3)"
   ]
  },
  {
   "cell_type": "markdown",
   "metadata": {},
   "source": [
    "\n",
    "11. List Methods"
   ]
  },
  {
   "cell_type": "code",
   "execution_count": 25,
   "metadata": {},
   "outputs": [
    {
     "name": "stdout",
     "output_type": "stream",
     "text": [
      "[1, 2, 3, 4, 5, 6]\n",
      "[0, 1, 2, 3, 4, 5, 6]\n",
      "[0, 1, 2, 4, 5, 6]\n",
      "True\n",
      "False\n",
      "6\n",
      "[]\n"
     ]
    }
   ],
   "source": [
    "numbers = [1, 2, 3, 4, 5]\n",
    "\n",
    "numbers.append(6)\n",
    "print(numbers)\n",
    "\n",
    "numbers.insert(0, 0) # index, obj. type\n",
    "print(numbers)\n",
    "\n",
    "numbers.remove(3)\n",
    "print(numbers)\n",
    "\n",
    "print(1 in numbers)\n",
    "print(10 in numbers)\n",
    "\n",
    "print(len(numbers))\n",
    "\n",
    "numbers.clear()\n",
    "print(numbers)"
   ]
  },
  {
   "cell_type": "markdown",
   "metadata": {},
   "source": [
    "12. For Loops"
   ]
  },
  {
   "cell_type": "code",
   "execution_count": 28,
   "metadata": {},
   "outputs": [
    {
     "name": "stdout",
     "output_type": "stream",
     "text": [
      "1\n",
      "2\n",
      "3\n",
      "4\n",
      "5\n"
     ]
    }
   ],
   "source": [
    "numbers = [1, 2, 3, 4, 5]\n",
    "\n",
    "for item in numbers:\n",
    "    print(item)"
   ]
  },
  {
   "cell_type": "markdown",
   "metadata": {},
   "source": [
    "\n",
    "13. The function range()"
   ]
  },
  {
   "cell_type": "code",
   "execution_count": 32,
   "metadata": {},
   "outputs": [
    {
     "name": "stdout",
     "output_type": "stream",
     "text": [
      "range(0, 5)\n",
      "0\n",
      "1\n",
      "2\n",
      "3\n",
      "4\n"
     ]
    }
   ],
   "source": [
    "numbersRange =  range(5) # numbersRange is a range object\n",
    "\n",
    "print(numbersRange)\n",
    "\n",
    "for n in numbersRange:\n",
    "    print(n)"
   ]
  },
  {
   "cell_type": "code",
   "execution_count": 33,
   "metadata": {},
   "outputs": [
    {
     "name": "stdout",
     "output_type": "stream",
     "text": [
      "5\n",
      "6\n",
      "7\n",
      "8\n",
      "9\n"
     ]
    }
   ],
   "source": [
    "numbersRange =  range(5, 10)\n",
    "\n",
    "for n in numbersRange:\n",
    "    print(n)"
   ]
  },
  {
   "cell_type": "code",
   "execution_count": 34,
   "metadata": {},
   "outputs": [
    {
     "name": "stdout",
     "output_type": "stream",
     "text": [
      "5\n",
      "7\n",
      "9\n"
     ]
    }
   ],
   "source": [
    "numbersRange =  range(5, 10, 2)\n",
    "\n",
    "for n in numbersRange:\n",
    "    print(n)"
   ]
  },
  {
   "cell_type": "code",
   "execution_count": 35,
   "metadata": {},
   "outputs": [
    {
     "name": "stdout",
     "output_type": "stream",
     "text": [
      "0\n",
      "1\n",
      "2\n",
      "3\n",
      "4\n"
     ]
    }
   ],
   "source": [
    "for n in range(5):\n",
    "    print(n)"
   ]
  },
  {
   "cell_type": "markdown",
   "metadata": {},
   "source": [
    "\n",
    "14. Tuples\n",
    "\n",
    "Are used to store a squence of objects\n",
    "Tuples are immutable (cannot change them once we create them)"
   ]
  },
  {
   "cell_type": "code",
   "execution_count": 39,
   "metadata": {},
   "outputs": [
    {
     "name": "stdout",
     "output_type": "stream",
     "text": [
      "2\n",
      "2\n"
     ]
    }
   ],
   "source": [
    "numbersTuple = (1, 2, 3, 3)\n",
    "\n",
    "# numbersTuple[0] = 2 # This gives error\n",
    "print(numbersTuple.count(3))\n",
    "\n",
    "print(numbersTuple.index(3)) # returns the first occurence of an object\n",
    "\n",
    "# numbersTuple.__add__ # => magic methods\n"
   ]
  },
  {
   "cell_type": "markdown",
   "metadata": {},
   "source": [
    "\n",
    "15. Magic or Dunder Methods\n",
    "\n",
    "Python - Magic or Dunder Methods. Magic methods in Python are the special\n",
    "methods that start and end with the double underscores. They are also called\n",
    "dunder methods. Magic methods are not meant to be invoked directly by you,\n",
    "but the invocation happens internally from the class on a certain action."
   ]
  },
  {
   "cell_type": "code",
   "execution_count": 40,
   "metadata": {},
   "outputs": [
    {
     "name": "stdout",
     "output_type": "stream",
     "text": [
      "<class 'str'>\n"
     ]
    }
   ],
   "source": [
    "num=12\n",
    "\n",
    "val = int.__str__(num)\n",
    "print(type(val))"
   ]
  },
  {
   "cell_type": "markdown",
   "metadata": {},
   "source": [
    "\n",
    "16. How Python code gets executed\n",
    "\n",
    "Uses a python code interpreter that translated the code into\n",
    "something the machine(PC) can read and execute\n",
    "\n",
    "The code is executed line by line from top"
   ]
  },
  {
   "cell_type": "code",
   "execution_count": 47,
   "metadata": {},
   "outputs": [
    {
     "name": "stdout",
     "output_type": "stream",
     "text": [
      "Dumitru Ursu\n",
      "O-----..\n",
      " X  X\n",
      "________________________________________________________________________________________________________________________________________________________________________________________________________________________________________________________________________________________________________________________________________________________________________________________________________________________________________________________________________________________________________________________________________________________________________________________________________________________________________________________________________________________________________________________________________________________________________________________________________________________________________________________________________________________________________________________________________________________________________________________________________________________________________\n",
      "Continues that way ->\n"
     ]
    }
   ],
   "source": [
    "print(\"Dumitru Ursu\")\n",
    "print('O-----..')\n",
    "print(' X  X')\n",
    "print(1_000 * '_')\n",
    "print(\"Continues that way ->\")"
   ]
  },
  {
   "cell_type": "markdown",
   "metadata": {},
   "source": [
    "\n",
    "17. Math Functions\n",
    "\n",
    "A Python MODULE is a file containing Python definitions and statements.\n",
    "A module can define functions, classes, and variables. A module can\n",
    "also include runnable code. Grouping related code into a module makes\n",
    "the code easier to understand and use. It also makes the code logically\n",
    "organized."
   ]
  },
  {
   "cell_type": "code",
   "execution_count": 54,
   "metadata": {},
   "outputs": [
    {
     "name": "stdout",
     "output_type": "stream",
     "text": [
      "3\n",
      "2.9 here\n",
      "2.9\n",
      "3\n",
      "-2\n"
     ]
    }
   ],
   "source": [
    "import math # importting the 'math' module\n",
    "\n",
    "x = 2.9\n",
    "print(round(x))\n",
    "print(str(x) + ' here')\n",
    "\n",
    "print(abs(-2.9))\n",
    "\n",
    "print(math.ceil(x))\n",
    "print(math.ceil(-2.9))"
   ]
  },
  {
   "cell_type": "markdown",
   "metadata": {},
   "source": [
    "\n",
    "18. Strings\n",
    "\n",
    "N.B. 'Ctrl' + 'Arrow Key' to navigate through youtube timestamos\n",
    "     'Ctrl' + 'Alt' + 'Enter' to run a Code Cell\n",
    "\n",
    "There is no difference at runtime between \"\" and ''.\n",
    "The only difference between the two types of quotes is the one\n",
    "you have already pointed out:\n",
    "    a) Single quotes need to be escaped inside single quoted string\n",
    "    literals but not inside double-quoted string literals.\n",
    "    b) Double quotes need to be escaped inside double quoted string\n",
    "    literals but not inside single-quoted string literals."
   ]
  },
  {
   "cell_type": "code",
   "execution_count": 60,
   "metadata": {},
   "outputs": [
    {
     "name": "stdout",
     "output_type": "stream",
     "text": [
      "hon's for Begginers\n",
      "Pyt\n",
      "Copy of course1: Python's for Begginers\n",
      "True\n",
      "\n",
      "This\n",
      "is\n",
      "a multiline string\n",
      "\n",
      "umitr\n"
     ]
    }
   ],
   "source": [
    "# course = 'Python's for Begginers' # Doesn't work\n",
    "course0 = 'Python\\'s for Begginers' # Works\n",
    "course1 = \"Python's for Begginers\"\n",
    "\n",
    "print(course1[3:]) # from 3'rd index to final Character\n",
    "print(course1[:3]) # up to the 3'rd index\n",
    "\n",
    "another = course1[:] # the entire string\n",
    "print(\"Copy of course1: \" + another)\n",
    "\n",
    "# course2 = \"\"\"\"\"\" # works as well\n",
    "course2 = '''\n",
    "This\n",
    "is\n",
    "a multiline string\n",
    "'''\n",
    "print(course2)\n",
    "\n",
    "name = \"Dumitru\"\n",
    "print(name[1:-1])\n",
    "\n",
    "print('hi' == \"hi\")"
   ]
  },
  {
   "cell_type": "markdown",
   "metadata": {},
   "source": [
    "\n",
    "19. Formatted Strings\n",
    "\n",
    "Begin with an 'f'\n",
    "Ex :\n",
    "        message = f'...'"
   ]
  },
  {
   "cell_type": "code",
   "execution_count": 63,
   "metadata": {},
   "outputs": [
    {
     "name": "stdout",
     "output_type": "stream",
     "text": [
      "Dima [Ursu] is a coder\n",
      "Dima [Ursu] is a coder\n"
     ]
    }
   ],
   "source": [
    "first = \"Dima\"\n",
    "last = \"Ursu\"\n",
    "\n",
    "message = first + ' [' + last + '] is a coder' # hard\n",
    "print(message)\n",
    "\n",
    "msg = f'{first} [{last}] is a coder'\n",
    "print(msg)"
   ]
  },
  {
   "cell_type": "markdown",
   "metadata": {},
   "source": [
    "\n",
    "20. String Methods"
   ]
  },
  {
   "cell_type": "code",
   "execution_count": 70,
   "metadata": {},
   "outputs": [
    {
     "name": "stdout",
     "output_type": "stream",
     "text": [
      "28\n",
      "BUNA, MA NUMESC DUMITRU URSU\n",
      "6\n",
      "16\n",
      "Buna, ma numesc Daniel Ursu\n",
      "Suna, ma numesc Dumitru Ursu\n",
      "True\n",
      "False\n"
     ]
    }
   ],
   "source": [
    "string1 = 'Buna, ma numesc Dumitru Ursu'\n",
    "\n",
    "print(len(string1))\n",
    "print(string1.upper())\n",
    "\n",
    "print(string1.find('m'))\n",
    "print(string1.find('Dumitru')) # the index at which the substring starts\n",
    "\n",
    "print(string1.replace('Dumitru', 'Daniel'))\n",
    "print(string1.replace('B', 'S'))\n",
    "\n",
    "print('Dumitru' in string1)\n",
    "print('X' in string1)"
   ]
  },
  {
   "cell_type": "markdown",
   "metadata": {},
   "source": [
    "\n",
    "21. Nested Loops"
   ]
  },
  {
   "cell_type": "code",
   "execution_count": 71,
   "metadata": {},
   "outputs": [
    {
     "name": "stdout",
     "output_type": "stream",
     "text": [
      "(0, 0)\n",
      "(0, 1)\n",
      "(0, 2)\n",
      "(1, 0)\n",
      "(1, 1)\n",
      "(1, 2)\n",
      "(2, 0)\n",
      "(2, 1)\n",
      "(2, 2)\n",
      "(3, 0)\n",
      "(3, 1)\n",
      "(3, 2)\n"
     ]
    }
   ],
   "source": [
    "for x in range(4):\n",
    "    for y in range(3):\n",
    "        print(f'({x}, {y})')"
   ]
  },
  {
   "cell_type": "code",
   "execution_count": 72,
   "metadata": {},
   "outputs": [
    {
     "name": "stdout",
     "output_type": "stream",
     "text": [
      "*****\n",
      "**\n",
      "*****\n",
      "**\n",
      "**\n"
     ]
    }
   ],
   "source": [
    "numbers = [5, 2, 5, 2, 2]\n",
    "for i in numbers:\n",
    "    print(i * '*')"
   ]
  },
  {
   "cell_type": "markdown",
   "metadata": {},
   "source": [
    "22. 2D Lists"
   ]
  },
  {
   "cell_type": "code",
   "execution_count": 75,
   "metadata": {},
   "outputs": [
    {
     "name": "stdout",
     "output_type": "stream",
     "text": [
      "-1\n",
      "1\n",
      "2\n",
      "3\n",
      "4\n",
      "5\n",
      "-1\n",
      "7\n",
      "8\n",
      "9\n"
     ]
    }
   ],
   "source": [
    "matrix = [\n",
    "    [1, 2, 3],\n",
    "    [4, 5, 6],\n",
    "    [7, 8, 9]\n",
    "]\n",
    "\n",
    "matrix[1][2] = -1\n",
    "print(matrix[1][2])\n",
    "\n",
    "for row in matrix:\n",
    "    for item in row:\n",
    "        print(item)"
   ]
  },
  {
   "cell_type": "markdown",
   "metadata": {},
   "source": [
    "23. Unpacking"
   ]
  },
  {
   "cell_type": "code",
   "execution_count": 77,
   "metadata": {},
   "outputs": [
    {
     "name": "stdout",
     "output_type": "stream",
     "text": [
      "3\n",
      "b\n"
     ]
    }
   ],
   "source": [
    "coordinates = (1, 2, 3) # tuple\n",
    "x = coordinates[0]\n",
    "y = coordinates[1]\n",
    "z = coordinates[2]\n",
    "\n",
    "# Unpacking :\n",
    "x, y, z = coordinates\n",
    "print(z)\n",
    "\n",
    "myList = ['a', 'b', 'c'] # list\n",
    "a, b, c = myList\n",
    "print(b)"
   ]
  },
  {
   "cell_type": "markdown",
   "metadata": {},
   "source": [
    "\n",
    "24. Dictionaries\n",
    "\n",
    "Each key should be unique\n",
    "Ex: we cannot have 2 \"age\" keys"
   ]
  },
  {
   "cell_type": "code",
   "execution_count": 83,
   "metadata": {},
   "outputs": [
    {
     "name": "stdout",
     "output_type": "stream",
     "text": [
      "Ursu Dumitru\n",
      "male\n",
      "None\n",
      "20\n",
      "Aug 31 2002\n"
     ]
    }
   ],
   "source": [
    "cusotmer = {\n",
    "    \"name\": \"Dumitru Ursu\",\n",
    "    \"age\": 20,\n",
    "    \"is_home\": False\n",
    "}\n",
    "\n",
    "cusotmer[\"name\"] = \"Ursu Dumitru\"\n",
    "cusotmer[\"sex\"] = \"male\"\n",
    "\n",
    "print(cusotmer[\"name\"])\n",
    "print(cusotmer[\"sex\"])\n",
    "# print(cusotmer[\"year\"]) # prints error\n",
    "print(cusotmer.get(\"year\"))\n",
    "print(cusotmer.get(\"age\"))\n",
    "print(cusotmer.get(\"birth_year\", \"Aug 31 2002\"))"
   ]
  },
  {
   "cell_type": "markdown",
   "metadata": {},
   "source": [
    "\n",
    "25. Functions"
   ]
  },
  {
   "cell_type": "code",
   "execution_count": 85,
   "metadata": {},
   "outputs": [
    {
     "name": "stdout",
     "output_type": "stream",
     "text": [
      "Start\n",
      "\n",
      "Hello !\n",
      "Welcome aboard\n",
      "\n",
      "Finish\n"
     ]
    }
   ],
   "source": [
    "def greet_user():\n",
    "    print('Hello !')\n",
    "    print('Welcome aboard')\n",
    "\n",
    "print('Start\\n')\n",
    "greet_user()\n",
    "print('\\nFinish')"
   ]
  },
  {
   "cell_type": "markdown",
   "metadata": {},
   "source": [
    "\n",
    "26. Function Parameters"
   ]
  },
  {
   "cell_type": "code",
   "execution_count": 86,
   "metadata": {},
   "outputs": [
    {
     "name": "stdout",
     "output_type": "stream",
     "text": [
      "Hello Dumitru!\n",
      "Welcome aboard\n"
     ]
    }
   ],
   "source": [
    "def greet_user(name):\n",
    "    print(f'Hello {name}!')\n",
    "    print('Welcome aboard')\n",
    "\n",
    "greet_user(\"Dumitru\")"
   ]
  }
 ],
 "metadata": {
  "kernelspec": {
   "display_name": "base",
   "language": "python",
   "name": "python3"
  },
  "language_info": {
   "codemirror_mode": {
    "name": "ipython",
    "version": 3
   },
   "file_extension": ".py",
   "mimetype": "text/x-python",
   "name": "python",
   "nbconvert_exporter": "python",
   "pygments_lexer": "ipython3",
   "version": "3.11.3"
  },
  "orig_nbformat": 4
 },
 "nbformat": 4,
 "nbformat_minor": 2
}
