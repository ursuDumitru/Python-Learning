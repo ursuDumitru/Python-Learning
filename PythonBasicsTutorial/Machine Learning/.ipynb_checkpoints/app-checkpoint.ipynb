{
 "cells": [
  {
   "cell_type": "markdown",
   "metadata": {},
   "source": [
    "Steps:\n",
    "    1. Import the Data\n",
    "    2. Clean the Data\n",
    "    3. Split the Data into Training/Test Sets\n",
    "    4. Create a Model\n",
    "    5. Train the Model\n",
    "    6. Make Predictions\n",
    "    7. Evaluate and Improve\n",
    "\n",
    "Libraries:\n",
    "    1. Numpy\n",
    "    2. Pandas\n",
    "    3. MatPlotLib\n",
    "    4. Scikit-Learn"
   ]
  },
  {
   "cell_type": "code",
   "execution_count": 8,
   "metadata": {},
   "outputs": [
    {
     "name": "stdout",
     "output_type": "stream",
     "text": [
      "hello world1\n"
     ]
    }
   ],
   "source": [
    "print('hello world1')"
   ]
  }
 ],
 "metadata": {
  "kernelspec": {
   "display_name": "Python 3 (ipykernel)",
   "language": "python",
   "name": "python3"
  },
  "language_info": {
   "codemirror_mode": {
    "name": "ipython",
    "version": 3
   },
   "file_extension": ".py",
   "mimetype": "text/x-python",
   "name": "python",
   "nbconvert_exporter": "python",
   "pygments_lexer": "ipython3",
   "version": "3.11.3"
  }
 },
 "nbformat": 4,
 "nbformat_minor": 2
}
