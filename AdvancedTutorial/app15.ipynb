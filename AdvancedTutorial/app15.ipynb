{
 "cells": [
  {
   "cell_type": "markdown",
   "metadata": {},
   "source": [
    "15. Logging\n",
    "\n",
    "5 levels of logging:\n",
    "    debug\n",
    "    info\n",
    "    warning\n",
    "    error\n",
    "    critical"
   ]
  },
  {
   "cell_type": "code",
   "execution_count": 1,
   "metadata": {},
   "outputs": [
    {
     "name": "stderr",
     "output_type": "stream",
     "text": [
      "WARNING:root:Warning logging message\n",
      "ERROR:root:Error logging message\n",
      "CRITICAL:root:Critical logging message\n"
     ]
    }
   ],
   "source": [
    "import logging as lg\n",
    "lg.info('Info logging message')\n",
    "lg.debug('Debug logging message')\n",
    "lg.warning('Warning logging message')\n",
    "lg.error('Error logging message')\n",
    "lg.critical('Critical logging message')"
   ]
  }
 ],
 "metadata": {
  "kernelspec": {
   "display_name": "base",
   "language": "python",
   "name": "python3"
  },
  "language_info": {
   "codemirror_mode": {
    "name": "ipython",
    "version": 3
   },
   "file_extension": ".py",
   "mimetype": "text/x-python",
   "name": "python",
   "nbconvert_exporter": "python",
   "pygments_lexer": "ipython3",
   "version": "3.11.3"
  },
  "orig_nbformat": 4
 },
 "nbformat": 4,
 "nbformat_minor": 2
}
