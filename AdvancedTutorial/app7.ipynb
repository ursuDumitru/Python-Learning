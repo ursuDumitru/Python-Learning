{
 "cells": [
  {
   "cell_type": "markdown",
   "metadata": {},
   "source": [
    "7. Factory Design Pattern\n",
    "\n",
    "abc - abstract class\n",
    "\n",
    "convention : putting an 'I' before a class name makes it an interface\n",
    "metaclass=ABCMeta = this class is abstract"
   ]
  },
  {
   "cell_type": "code",
   "execution_count": 11,
   "metadata": {},
   "outputs": [
    {
     "name": "stdout",
     "output_type": "stream",
     "text": [
      "I am a student\n",
      "I am a teacher\n"
     ]
    }
   ],
   "source": [
    "from abc import ABCMeta, abstractstaticmethod\n",
    "\n",
    "class IPerson(metaclass=ABCMeta): # abstract class\n",
    "    \n",
    "    @abstractstaticmethod # this means every derivate class has to redefine this method\n",
    "    def person_method():\n",
    "        \"\"\" Interface Method \"\"\"\n",
    "\n",
    "\n",
    "class Student(IPerson):\n",
    "    \n",
    "    def __init__(self):\n",
    "        self.name = \"Basic Student Method\"\n",
    "    \n",
    "    def person_method(self):\n",
    "        print(\"I am a student\")\n",
    "\n",
    "\n",
    "class Teacher(IPerson):\n",
    "    \n",
    "    def __init__(self):\n",
    "        self.name = \"Basic Teacher Name\"\n",
    "    \n",
    "    def person_method(self):\n",
    "        print(\"I am a teacher\")\n",
    "\n",
    "\n",
    "# p1 = IPerson()     # doesn't work\n",
    "# p1.person_method() # \n",
    "\n",
    "s1 = Student()\n",
    "s1.person_method()\n",
    "\n",
    "t1 = Teacher()\n",
    "t1.person_method()"
   ]
  },
  {
   "cell_type": "markdown",
   "metadata": {},
   "source": [
    "Decide during runtime what type of object we want to create\n",
    "using factory design pattern"
   ]
  },
  {
   "cell_type": "code",
   "execution_count": 14,
   "metadata": {},
   "outputs": [
    {
     "name": "stdout",
     "output_type": "stream",
     "text": [
      "Invalid Type\n"
     ]
    },
    {
     "ename": "AttributeError",
     "evalue": "'int' object has no attribute 'person_method'",
     "output_type": "error",
     "traceback": [
      "\u001b[1;31m---------------------------------------------------------------------------\u001b[0m",
      "\u001b[1;31mAttributeError\u001b[0m                            Traceback (most recent call last)",
      "Cell \u001b[1;32mIn[14], line 16\u001b[0m\n\u001b[0;32m     14\u001b[0m choice \u001b[39m=\u001b[39m \u001b[39minput\u001b[39m(\u001b[39m\"\u001b[39m\u001b[39mWhat type of person do you want to create : \u001b[39m\u001b[39m\"\u001b[39m)\n\u001b[0;32m     15\u001b[0m person \u001b[39m=\u001b[39m PersonFactory\u001b[39m.\u001b[39mbuild_person(choice)\n\u001b[1;32m---> 16\u001b[0m person\u001b[39m.\u001b[39mperson_method()\n",
      "\u001b[1;31mAttributeError\u001b[0m: 'int' object has no attribute 'person_method'"
     ]
    }
   ],
   "source": [
    "class PersonFactory():\n",
    "    \n",
    "    @staticmethod\n",
    "    def build_person(person_type):\n",
    "        if person_type == \"Student\":\n",
    "            return Student()\n",
    "        if person_type == \"Teacher\":\n",
    "            return Teacher()\n",
    "        print(\"Invalid Type\")\n",
    "        return -1\n",
    "\n",
    "\n",
    "if __name__ == \"__main__\":\n",
    "    choice = input(\"What type of person do you want to create : \")\n",
    "    person = PersonFactory.build_person(choice)\n",
    "    person.person_method()"
   ]
  }
 ],
 "metadata": {
  "kernelspec": {
   "display_name": "base",
   "language": "python",
   "name": "python3"
  },
  "language_info": {
   "codemirror_mode": {
    "name": "ipython",
    "version": 3
   },
   "file_extension": ".py",
   "mimetype": "text/x-python",
   "name": "python",
   "nbconvert_exporter": "python",
   "pygments_lexer": "ipython3",
   "version": "3.11.3"
  },
  "orig_nbformat": 4
 },
 "nbformat": 4,
 "nbformat_minor": 2
}
