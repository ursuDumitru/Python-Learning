{
 "cells": [
  {
   "cell_type": "markdown",
   "metadata": {},
   "source": [
    "4. Argument Parsing\n",
    "\n",
    "kwargs - is a dictionary\n",
    "argv = argument vector"
   ]
  },
  {
   "cell_type": "code",
   "execution_count": 3,
   "metadata": {},
   "outputs": [
    {
     "name": "stdout",
     "output_type": "stream",
     "text": [
      "hey\n",
      "True\n",
      "20\n",
      "wow\n",
      "TEST\n",
      "7\n"
     ]
    }
   ],
   "source": [
    "def myfunction(*args, **kwargs): # we use this so that we can pass the arguments without knowing what they are\n",
    "    print(args[0])\n",
    "    print(args[1])\n",
    "    print(args[2])\n",
    "    print(args[3])\n",
    "    print(kwargs['KEYONE'])\n",
    "    print(kwargs['KEYTWO'])\n",
    "\n",
    "myfunction('hey', True, 20, 'wow', KEYONE=\"TEST\", KEYTWO=7)"
   ]
  },
  {
   "cell_type": "code",
   "execution_count": 4,
   "metadata": {},
   "outputs": [
    {
     "name": "stdout",
     "output_type": "stream",
     "text": [
      "c:\\Users\\ursu\\AppData\\Local\\anaconda3\\envs\\penv\\Lib\\site-packages\\ipykernel_launcher.py\n",
      "--ip=127.0.0.1\n",
      "--stdin=9011\n"
     ]
    }
   ],
   "source": []
  }
 ],
 "metadata": {
  "kernelspec": {
   "display_name": "pkernel",
   "language": "python",
   "name": "pkernel"
  },
  "language_info": {
   "codemirror_mode": {
    "name": "ipython",
    "version": 3
   },
   "file_extension": ".py",
   "mimetype": "text/x-python",
   "name": "python",
   "nbconvert_exporter": "python",
   "pygments_lexer": "ipython3",
   "version": "3.11.4"
  },
  "orig_nbformat": 4
 },
 "nbformat": 4,
 "nbformat_minor": 2
}
