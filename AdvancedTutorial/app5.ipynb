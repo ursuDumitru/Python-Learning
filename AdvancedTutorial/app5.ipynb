{
 "cells": [
  {
   "cell_type": "markdown",
   "metadata": {},
   "source": [
    "5. Encapsulation (Data Hifing)\n",
    "\n",
    "'__' - means private\n",
    "In Python we do not have method overloading\n",
    "    (we cannot have Name(self) and Name(self, value))\n",
    "\n",
    "setters are used to meet some criteria ragarding the value we want to set\n",
    "\n",
    "if we dont use 'self' it is most likely a static method"
   ]
  },
  {
   "cell_type": "code",
   "execution_count": 7,
   "metadata": {},
   "outputs": [
    {
     "name": "stdout",
     "output_type": "stream",
     "text": [
      "Mike\n",
      "Bob\n",
      "Default Name\n"
     ]
    }
   ],
   "source": [
    "class Person:\n",
    "    \n",
    "    def __init__(self, name, age, gender):\n",
    "        self.__name = name\n",
    "        self.__age = age\n",
    "        self.__gender = gender\n",
    "\n",
    "    @property\n",
    "    def Name(self):\n",
    "        return self.__name\n",
    "\n",
    "    @Name.setter\n",
    "    def Name(self, value):\n",
    "        if value == \"Blob\":\n",
    "            self.__name = \"Default Name\"\n",
    "        else:\n",
    "            self.__name = value\n",
    "    \n",
    "    @staticmethod\n",
    "    def mymethod():\n",
    "        print(\"Hello World!\")\n",
    "\n",
    "Person.mymethod()\n",
    "\n",
    "p1 = Person(\"Mike\", 20, 'm')\n",
    "# print(p1.__name) # doesn't work as __name is private\n",
    "print(p1.Name)\n",
    "\n",
    "p1.Name = \"Bob\"\n",
    "print(p1.Name)\n",
    "\n",
    "p1.Name = \"Blob\"\n",
    "print(p1.Name)\n",
    "\n",
    "p1.mymethod()"
   ]
  }
 ],
 "metadata": {
  "kernelspec": {
   "display_name": "base",
   "language": "python",
   "name": "python3"
  },
  "language_info": {
   "codemirror_mode": {
    "name": "ipython",
    "version": 3
   },
   "file_extension": ".py",
   "mimetype": "text/x-python",
   "name": "python",
   "nbconvert_exporter": "python",
   "pygments_lexer": "ipython3",
   "version": "3.11.3"
  },
  "orig_nbformat": 4
 },
 "nbformat": 4,
 "nbformat_minor": 2
}
