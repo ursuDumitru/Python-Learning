{
 "cells": [
  {
   "cell_type": "markdown",
   "metadata": {},
   "source": [
    "12. Sets : unordered, mutable, no duplicates"
   ]
  },
  {
   "cell_type": "code",
   "execution_count": 13,
   "metadata": {},
   "outputs": [
    {
     "name": "stdout",
     "output_type": "stream",
     "text": [
      "{1, 2, 3}\n",
      "<class 'set'>\n",
      "{1, 2, 3}\n",
      "{'H', 'o', 'e', 'l'}\n",
      "<class 'dict'>\n",
      "<class 'set'>\n"
     ]
    }
   ],
   "source": [
    "myset = {1, 2, 3, 1, 2} # like a dictionary but only values, not key-value pairs\n",
    "print(myset)\n",
    "print(type(myset))\n",
    "\n",
    "myset1 = set([1, 2, 3, 1, 2]) # set from list\n",
    "print(myset1)\n",
    "\n",
    "myset2 = set(\"Hello\")\n",
    "print(myset2)\n",
    "\n",
    "myset4 = {}\n",
    "print(type(myset4)) # it is a dictionary\n",
    "\n",
    "myset5 = set()\n",
    "print(type(myset5))"
   ]
  },
  {
   "cell_type": "code",
   "execution_count": 30,
   "metadata": {},
   "outputs": [
    {
     "name": "stdout",
     "output_type": "stream",
     "text": [
      "2\n",
      "{3, 5}\n",
      "set()\n"
     ]
    }
   ],
   "source": [
    "myset6 = set()\n",
    "\n",
    "myset6.add(1)\n",
    "myset6.add(2)\n",
    "myset6.add(3)\n",
    "myset6.add(4)\n",
    "myset6.add(5)\n",
    "myset6.add(1)\n",
    "myset6.add(3)\n",
    "\n",
    "myset6.remove(1)\n",
    "# myset6.remove(4) # error !!!\n",
    "myset6.discard(4) # removes the element if present\n",
    "print(myset6.pop()) # remove random element\n",
    "\n",
    "print(myset6)\n",
    "\n",
    "myset6.clear() # empty our set\n",
    "print(myset6)"
   ]
  },
  {
   "cell_type": "code",
   "execution_count": 32,
   "metadata": {},
   "outputs": [
    {
     "name": "stdout",
     "output_type": "stream",
     "text": [
      "1\n",
      "2\n",
      "3\n",
      "4\n",
      "5\n",
      "yes\n"
     ]
    }
   ],
   "source": [
    "myset7 = set([1, 2, 3, 4, 5])\n",
    "\n",
    "for i in myset7:\n",
    "    print(i)\n",
    "\n",
    "\n",
    "if 1 in myset7:\n",
    "    print(\"yes\")"
   ]
  },
  {
   "cell_type": "markdown",
   "metadata": {},
   "source": [
    "Union and Intersection"
   ]
  },
  {
   "cell_type": "code",
   "execution_count": 35,
   "metadata": {},
   "outputs": [
    {
     "name": "stdout",
     "output_type": "stream",
     "text": [
      "{0, 1, 2, 3, 4, 5, 6, 7, 8, 9}\n",
      "set()\n",
      "{3, 5, 7}\n"
     ]
    }
   ],
   "source": [
    "odds = {1, 3, 5, 7, 9}\n",
    "evens = {0, 2, 4, 6, 8}\n",
    "primes = {2, 3, 5, 7}\n",
    "\n",
    "u = odds.union(evens)\n",
    "print(u)\n",
    "\n",
    "i = odds.intersection(evens)\n",
    "print(i)\n",
    "\n",
    "i = odds.intersection(primes)\n",
    "print(i)"
   ]
  },
  {
   "cell_type": "markdown",
   "metadata": {},
   "source": [
    "Difference"
   ]
  },
  {
   "cell_type": "code",
   "execution_count": 51,
   "metadata": {},
   "outputs": [
    {
     "name": "stdout",
     "output_type": "stream",
     "text": [
      "{4, 5, 6, 7, 8, 9}\n",
      "{4, 5, 6, 7, 8, 9, 10, 11, 12}\n",
      "False\n",
      "True\n",
      "True\n",
      "True\n"
     ]
    }
   ],
   "source": [
    "setA = {1, 2, 3, 4, 5, 6, 7, 8, 9}\n",
    "setB = {1, 2, 3, 10, 11, 12}\n",
    "\n",
    "diff = setA.difference(setB)\n",
    "print(diff)\n",
    "\n",
    "diff2 = setB.symmetric_difference(setA)\n",
    "print(diff2)\n",
    "\n",
    "# setA.update(setB) # add elements from B that are missing in A to A\n",
    "# print(setA)\n",
    "\n",
    "# setA.intersection_update(setB) # keep only the elements present in both\n",
    "# print(setA)\n",
    "\n",
    "# setA.difference_update(setB)\n",
    "# print(setA)\n",
    "\n",
    "# setA.symmetric_difference_update(setB)\n",
    "# print(setA)\n",
    "\n",
    "setC = {1, 2, 3}\n",
    "print(setA.issubset(setB))\n",
    "print(setC.issubset(setA))\n",
    "\n",
    "print(setA.issuperset(setC))\n",
    "\n",
    "setD = {101, 102, 103}\n",
    "print(setA.isdisjoint(setD))"
   ]
  },
  {
   "cell_type": "markdown",
   "metadata": {},
   "source": [
    "Copying sets"
   ]
  },
  {
   "cell_type": "code",
   "execution_count": 54,
   "metadata": {},
   "outputs": [
    {
     "name": "stdout",
     "output_type": "stream",
     "text": [
      "{1, 2, 3, 4, 5, 6, 7}\n",
      "{1, 2, 3, 4, 5, 6}\n"
     ]
    }
   ],
   "source": [
    "setE = {1, 2, 3, 4, 5, 6}\n",
    "\n",
    "# setF = setE # both point to the same set\n",
    "\n",
    "# setF = setE.copy()\n",
    "setF = set(setE)\n",
    "\n",
    "setF.add(7)\n",
    "print(setF)\n",
    "print(setE)"
   ]
  },
  {
   "cell_type": "markdown",
   "metadata": {},
   "source": [
    "Frozen Set\n",
    "\n",
    "immutable version of set(cannot change it after it's creation)"
   ]
  },
  {
   "cell_type": "code",
   "execution_count": null,
   "metadata": {},
   "outputs": [],
   "source": [
    "a = frozenset([1, 2, 3, 4])\n",
    "\n",
    "# a.add(1) # doesn't work"
   ]
  }
 ],
 "metadata": {
  "kernelspec": {
   "display_name": "base",
   "language": "python",
   "name": "python3"
  },
  "language_info": {
   "codemirror_mode": {
    "name": "ipython",
    "version": 3
   },
   "file_extension": ".py",
   "mimetype": "text/x-python",
   "name": "python",
   "nbconvert_exporter": "python",
   "pygments_lexer": "ipython3",
   "version": "3.11.3"
  },
  "orig_nbformat": 4
 },
 "nbformat": 4,
 "nbformat_minor": 2
}
