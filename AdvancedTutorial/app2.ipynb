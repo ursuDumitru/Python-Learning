{
 "cells": [
  {
   "cell_type": "markdown",
   "metadata": {},
   "source": [
    "2. Decorators\n",
    "\n",
    "In Python, a decorator is a powerful and flexible design pattern\n",
    "that allows you to modify or extend the behavior of functions or\n",
    "methods without changing their code. Decorators are used to wrap\n",
    "functions with other functions, enhancing their functionality or\n",
    "adding extra processing before or after their execution.\n",
    "\n",
    "The following is a demonstration, not the way we use decorator in python"
   ]
  },
  {
   "cell_type": "code",
   "execution_count": 7,
   "metadata": {},
   "outputs": [
    {
     "name": "stdout",
     "output_type": "stream",
     "text": [
      "I am decorating your function, Dima\n",
      "Hello World !\n",
      "I am decorating your function, Mike\n",
      "Hello World !\n"
     ]
    }
   ],
   "source": [
    "def mydecorator(function):\n",
    "    \n",
    "    def wrapper(name):\n",
    "        print(f\"I am decorating your function, {name}\")\n",
    "        function()\n",
    "        \n",
    "    return wrapper\n",
    "\n",
    "\n",
    "def hello_world():\n",
    "    print(\"Hello World !\")\n",
    "    \n",
    "\n",
    "# here \"wraper\" is returned and \"()\" is added so that it will be called\n",
    "mydecorator(hello_world)('Dima') # pass function as a reference\n",
    "\n",
    "fun_return = mydecorator(hello_world)\n",
    "fun_return(\"Mike\")\n"
   ]
  },
  {
   "cell_type": "markdown",
   "metadata": {},
   "source": [
    "The way to do it in Python(using annotations)\n",
    "\n",
    "Becouse we want decorator functions to be accesible to multiple functions\n",
    "we use '*args' and '**kwargs'"
   ]
  },
  {
   "cell_type": "code",
   "execution_count": 18,
   "metadata": {},
   "outputs": [
    {
     "name": "stdout",
     "output_type": "stream",
     "text": [
      "Inside Function\n",
      "I am decorating your function\n",
      "Hello Dima !\n"
     ]
    }
   ],
   "source": [
    "def mydecorator(function):\n",
    "    \n",
    "    def wrapper(*args, **kwargs):\n",
    "        print(\"I am decorating your function\")\n",
    "        function(*args, **kwargs)\n",
    "    \n",
    "    print(\"Inside Function\")\n",
    "    return wrapper\n",
    "\n",
    "\n",
    "@mydecorator\n",
    "def hello(person):\n",
    "    print(f\"Hello {person} !\")\n",
    "    \n",
    "hello('Dima')"
   ]
  },
  {
   "cell_type": "markdown",
   "metadata": {},
   "source": [
    "In case we do not print but return the value inside 'hello'"
   ]
  },
  {
   "cell_type": "code",
   "execution_count": 19,
   "metadata": {},
   "outputs": [
    {
     "name": "stdout",
     "output_type": "stream",
     "text": [
      "Inside Function\n",
      "I am decorating your function\n"
     ]
    },
    {
     "data": {
      "text/plain": [
       "'Hello Dima !'"
      ]
     },
     "execution_count": 19,
     "metadata": {},
     "output_type": "execute_result"
    }
   ],
   "source": [
    "def mydecorator(function):\n",
    "    \n",
    "    def wrapper(*args, **kwargs):\n",
    "        print(\"I am decorating your function\")\n",
    "        return function(*args, **kwargs)\n",
    "    \n",
    "    print(\"Inside Function\")\n",
    "    return wrapper\n",
    "\n",
    "\n",
    "@mydecorator\n",
    "def hello(person):\n",
    "    return f\"Hello {person} !\" \n",
    "    \n",
    "hello('Dima')"
   ]
  },
  {
   "cell_type": "markdown",
   "metadata": {},
   "source": [
    "If you wnat to execute your function then decorate it, store the function result in a variable\n",
    "N.B. 'Shift' + 'Ctrl' + 'Up/Down' = move the current line down or up"
   ]
  },
  {
   "cell_type": "code",
   "execution_count": 25,
   "metadata": {},
   "outputs": [
    {
     "name": "stdout",
     "output_type": "stream",
     "text": [
      "Hello Dima !\n",
      "I am decorating your function\n",
      "Hello Dima ! returned\n"
     ]
    }
   ],
   "source": [
    "def mydecorator(function):\n",
    "    \n",
    "    def wrapper(*args, **kwargs):\n",
    "        return_value = function(*args, **kwargs) # This is executed and print for 'hello' is printed\n",
    "        print(\"I am decorating your function\") # Then this is printed\n",
    "        return return_value + ' returned'\n",
    "    \n",
    "    return wrapper\n",
    "\n",
    "\n",
    "@mydecorator\n",
    "def hello(person):\n",
    "    print(f\"Hello {person} !\")\n",
    "    return f\"Hello {person} !\" \n",
    "    \n",
    "print(hello('Dima')) # This is the last print, using the function return value"
   ]
  },
  {
   "cell_type": "markdown",
   "metadata": {},
   "source": [
    "\n",
    "Practical Example #1 - Logging"
   ]
  },
  {
   "cell_type": "code",
   "execution_count": 35,
   "metadata": {},
   "outputs": [
    {
     "name": "stdout",
     "output_type": "stream",
     "text": [
      "add returned value 140\n",
      "140\n"
     ]
    }
   ],
   "source": [
    "def logged(function):\n",
    "    def wrapper(*args, **kwargs):\n",
    "        value = function(*args, **kwargs)\n",
    "        \n",
    "        with open('logfile.txt', 'a+') as f:\n",
    "            fname = function.__name__\n",
    "            print(f'{fname} returned value {value}')\n",
    "            f.write(f'{fname} returned value {value}\\n')\n",
    "        return value\n",
    "    \n",
    "    return wrapper\n",
    "\n",
    "@logged\n",
    "def add(x, y):\n",
    "    return x + y\n",
    "\n",
    "print(add(100, 40))\n"
   ]
  },
  {
   "cell_type": "markdown",
   "metadata": {},
   "source": [
    "\n",
    "Practical Example #2 - Timing Function"
   ]
  },
  {
   "cell_type": "code",
   "execution_count": 98,
   "metadata": {},
   "outputs": [
    {
     "name": "stdout",
     "output_type": "stream",
     "text": [
      "myfunction took 0.0009961128234863281 seconds to execute !\n"
     ]
    },
    {
     "data": {
      "text/plain": [
       "32079985311865165734446600623875865212232053604484092054205706274420383459334063727528153723471155901245642673079562390129368060749745444180180987920928887621085308540199896099555859363126263673658111919846216869132980311886156266175551030435240499070050497577952215737763661518360746722292057818246251925117333474270212320162902804946403242784646633720956814799234129712656063803963699726036378881194892612766295323946638489861972934999397897095346934579587450402642949555481409417316249878536161755539846536195968580023079569416676140030431776042160108005040072443527045764085561704764900656905816103082168914578313843413614715911975957183505794739835361174729562379366998313569021176321002116500607905487271332240710723191838877407057157342243584954573825714840883825489104556847964901796787243715362556018637026008510326248430028336271065168238321287688581571090274149718889360348196497601886390305652472518897586287908245883212672784727629356590627596212895940148779103913174533112716706351739001643728787599044143191200807767771481336082304332172342080239417348562025690055806530734377289906322135955628872400983875405575382745708269608280127964751723655279448115363974081415134289531913794621436055324630636498834070521454390931517213561400980304867089060093008613032982742481141077941679809461173799957006540169899978058423957454117575969482790687564455285918995248166323637793425887740090251944218627002467600193417006088093855076426997155678699113988906756065240243175092439263248782999913422372909870295620554306337325206143595568924821385451708650014307063614905715418723611441557353490092435156958702023021308413874377346597919516838109325568060583286897410345554135284842472297819596254586592559699821251319121499547085733087752441583672550806569836421322850928447279477948668513385156504051699357295317472772944141054292974323006366246904991180184538458363053442876431730020912632326855264782218675678957172466704283948425607926331018650564035145305363209158057871066781329135719657242686255472476352633535502587573875087441423166733538515089558311341880313810433873809793270080954839685670322035953601478267124041074981106420128289909396359885390451643588684085569180714101536131699865913804093262406093363773170856957191847757505502444394734767490761421816283900660803813346995773720597733927925729773075285149571910843956345077227532526102974832779792573395093523170921621164080238511955413059520312458232041192048657575192388151346310175649885727097365634047135282289615142899730571769895799694881232909101845181318876454009059628636813253134672045956064416433750513136822222308550675906732465436786887430243768302321970331986610390958983124897118582967411801500294474336563092276323473394840931514647047352692387915379967440886997181540339173685499804342825589513205759671386945532212207574249085674694477610131245556169412758093059433064806688102363960743111020332604352827198776536004929850618557363779049328877619315026621830504781298268302838095089133877281604852269093730236761383732964037558657811474877482171842274776120599688481359588829641674273564430765908931491397517881770771707463110363838011619894936560206505950412433671947362004827758585293217207372892759283684083009645084751032084530052522681781907257501316387574761188524271601930873118672606442175991345692071367257462326008331603337213818180821822485427850088481342573727446413795192860304529798939872371631837800874588844007239344018394834931836338834419205529025184357713072074220389864773796565265948797829313496301228468177602217544879394744767429314453000028393512836728753477322945398278956982866978187966532151401686582488499351994719800191517267237494115268587273031034468842135235722998723572636871782478118641268054065745819364232566040166400000000000000000000000000000000000000000000000000000000000000000000000000000000000000000000000000000000000000000000000000000000000000000000000000000000000000000000000000000000000000000000000000000000000000000000000000000000000000000000000000000000000000000000000000000000000000000000000000000000000000000000000000000000000000000000000000000000000000000000000000000000000"
      ]
     },
     "execution_count": 98,
     "metadata": {},
     "output_type": "execute_result"
    }
   ],
   "source": [
    "import time\n",
    "\n",
    "def timed(function):\n",
    "    def wrapper(*args, **kwargs):\n",
    "        before = time.time()\n",
    "        value = function(*args, **kwargs)\n",
    "        fname = function.__name__\n",
    "        print(f'{fname} took {time.time() - before} seconds to execute !')\n",
    "        \n",
    "        return value\n",
    "\n",
    "    return wrapper\n",
    "\n",
    "@timed\n",
    "def myfunction(x):\n",
    "    result = 1\n",
    "    for i in range(1, x):\n",
    "        result *= i\n",
    "    \n",
    "    return result\n",
    "\n",
    "myfunction(1500)"
   ]
  }
 ],
 "metadata": {
  "kernelspec": {
   "display_name": "Python 3",
   "language": "python",
   "name": "python3"
  },
  "language_info": {
   "codemirror_mode": {
    "name": "ipython",
    "version": 3
   },
   "file_extension": ".py",
   "mimetype": "text/x-python",
   "name": "python",
   "nbconvert_exporter": "python",
   "pygments_lexer": "ipython3",
   "version": "3.11.3"
  },
  "orig_nbformat": 4
 },
 "nbformat": 4,
 "nbformat_minor": 2
}
