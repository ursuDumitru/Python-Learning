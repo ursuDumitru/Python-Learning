{
 "cells": [
  {
   "cell_type": "markdown",
   "metadata": {},
   "source": [
    "8. Proxy Design Pattern"
   ]
  },
  {
   "cell_type": "code",
   "execution_count": 1,
   "metadata": {},
   "outputs": [
    {
     "name": "stdout",
     "output_type": "stream",
     "text": [
      "I am a person\n",
      "I am the proxy functionality!\n",
      "I am a person\n"
     ]
    }
   ],
   "source": [
    "from abc import ABCMeta, abstractstaticmethod\n",
    "\n",
    "class IPerson(metaclass=ABCMeta):\n",
    "    \n",
    "    @abstractstaticmethod\n",
    "    def person_method():\n",
    "        \"\"\" Interface Method \"\"\"\n",
    "\n",
    "\n",
    "class Person(IPerson):\n",
    "    \n",
    "    def person_method(self):\n",
    "        print(\"I am a person\")\n",
    "\n",
    "\n",
    "class ProxyPerson(IPerson): # adds security/abstraction/encapsulation for creating classes\n",
    "    \n",
    "    def __init__(self):\n",
    "        self.person = Person()\n",
    "    \n",
    "    def person_method(self):\n",
    "        print(\"I am the proxy functionality!\")\n",
    "        self.person.person_method()\n",
    "\n",
    "\n",
    "p1 = Person()\n",
    "p1.person_method()\n",
    "\n",
    "p2 = ProxyPerson()\n",
    "p2.person_method()"
   ]
  }
 ],
 "metadata": {
  "kernelspec": {
   "display_name": "base",
   "language": "python",
   "name": "python3"
  },
  "language_info": {
   "codemirror_mode": {
    "name": "ipython",
    "version": 3
   },
   "file_extension": ".py",
   "mimetype": "text/x-python",
   "name": "python",
   "nbconvert_exporter": "python",
   "pygments_lexer": "ipython3",
   "version": "3.11.3"
  },
  "orig_nbformat": 4
 },
 "nbformat": 4,
 "nbformat_minor": 2
}
