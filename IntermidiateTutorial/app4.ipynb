{
 "cells": [
  {
   "cell_type": "markdown",
   "metadata": {},
   "source": [
    "4. Queue\n",
    "\n",
    "when you use multiple threads you need a structured way of getting in and out the data"
   ]
  },
  {
   "cell_type": "code",
   "execution_count": 1,
   "metadata": {},
   "outputs": [],
   "source": [
    "import queue\n",
    "\n",
    "numbers = [1, 2, 3, 4, 5, 6, 7]"
   ]
  },
  {
   "cell_type": "code",
   "execution_count": 2,
   "metadata": {},
   "outputs": [
    {
     "name": "stdout",
     "output_type": "stream",
     "text": [
      "\n",
      "FIFO\n",
      "1\n",
      "2\n"
     ]
    }
   ],
   "source": [
    "q = queue.Queue() # first in, first out\n",
    "for number in numbers:\n",
    "    q.put(number)\n",
    "\n",
    "print('\\nFIFO')\n",
    "print(q.get())\n",
    "print(q.get())"
   ]
  },
  {
   "cell_type": "code",
   "execution_count": 3,
   "metadata": {},
   "outputs": [
    {
     "name": "stdout",
     "output_type": "stream",
     "text": [
      "\n",
      "LIFO\n",
      "7\n",
      "6\n"
     ]
    }
   ],
   "source": [
    "q2 = queue.LifoQueue() # last in, first out\n",
    "for number in numbers:\n",
    "    q2.put(number)\n",
    "\n",
    "print('\\nLIFO')\n",
    "print(q2.get())\n",
    "print(q2.get())\n"
   ]
  },
  {
   "cell_type": "markdown",
   "metadata": {},
   "source": [
    "when you put an element, you give it a priority\n",
    "basically putting a tuple\n",
    "1 is the highest priority"
   ]
  },
  {
   "cell_type": "code",
   "execution_count": 4,
   "metadata": {},
   "outputs": [
    {
     "name": "stdout",
     "output_type": "stream",
     "text": [
      "\n",
      "PRIORITY\n",
      "True\n",
      "Hello World\n",
      "7.5\n",
      "99\n"
     ]
    }
   ],
   "source": [
    "q3 = queue.PriorityQueue()\n",
    "q3.put((2, \"Hello World\"))\n",
    "q3.put((11, 99))\n",
    "q3.put((5, 7.5))\n",
    "q3.put((1, True))\n",
    "\n",
    "print('\\nPRIORITY')\n",
    "while not q3.empty():\n",
    "    # print(q3.get()) # get priority and value\n",
    "    print(q3.get()[1]) # get only the value"
   ]
  }
 ],
 "metadata": {
  "kernelspec": {
   "display_name": "base",
   "language": "python",
   "name": "python3"
  },
  "language_info": {
   "codemirror_mode": {
    "name": "ipython",
    "version": 3
   },
   "file_extension": ".py",
   "mimetype": "text/x-python",
   "name": "python",
   "nbconvert_exporter": "python",
   "pygments_lexer": "ipython3",
   "version": "3.11.3"
  },
  "orig_nbformat": 4
 },
 "nbformat": 4,
 "nbformat_minor": 2
}
