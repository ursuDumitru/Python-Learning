{
 "cells": [
  {
   "cell_type": "markdown",
   "metadata": {},
   "source": [
    "## The Data\n",
    "\n",
    "### First overall glance\n",
    "\n",
    "We first check the general look of the data. \\\n",
    "What is in front of us? \\\n",
    "How much data do we have? \\\n",
    "How is the data organized? \\\n",
    "What type of data is each part of?\n",
    "\n",
    "So we read the data with one line in pandas and \\\n",
    "get some overview with simple print statements."
   ]
  },
  {
   "cell_type": "code",
   "execution_count": 2,
   "metadata": {},
   "outputs": [
    {
     "name": "stdout",
     "output_type": "stream",
     "text": [
      "(220320, 55)\n"
     ]
    }
   ],
   "source": [
    "import pandas as pd\n",
    "\n",
    "data = data_csv = pd.read_csv('.\\pump_data\\pump_sensor.csv') # read data from csv file\n",
    "print(data.shape) # print the size of the data\n",
    "# print(data.keys()) # print the column names\n",
    "# print(data.head()) # print the first 5 rows of the data"
   ]
  },
  {
   "cell_type": "markdown",
   "metadata": {},
   "source": [
    "### Output\n",
    "\n",
    "From the print above we can derive that the CSV file \\\n",
    "contains 55 columns, with each over 200k entries.\n",
    "\n",
    "The data is separated into *52 sensor columns*, one \\\n",
    "*machine status (target/results) column*, a *timestamp column*, \\\n",
    "and one *Unnamed column*, which is just the original index column.\n",
    "\n",
    "From the timestamp we can see that the data is recorded \\\n",
    "in *1-minute steps*. The sensor data is in *float32* with \\\n",
    "varying aplitude and the timestamp is in the \\\n",
    "*yyyy-mm-dd hh:mm:ss format*."
   ]
  },
  {
   "cell_type": "markdown",
   "metadata": {},
   "source": [
    "## Target Data(y)\n",
    "\n",
    "The second most important thing is to take a look at the \\\n",
    "*target data (y data / results)*. This will give some \\\n",
    "indication for the solution strategy.\n",
    "\n",
    "After the first glimpse at the data, we have to check what \\\n",
    "*results (called target)* are provided which we can later use \\\n",
    "to identify/define our predictive maintenance goal/path.\n",
    "\n",
    "### Some questions about extracting the target data are :\n",
    "1. Do we have **target information**, or will it be an **unsupervised task**?\n",
    "2. Are the target data **continuous data** or **booleans**?\n",
    "3. What data type is the target in? **Values, text, …**\n",
    "4. In what intervals are the targets recorded? \\\n",
    "   Does every sensor entry get a **single entry**, or are they **grouped**?\n",
    "5. Does each sensor have its own target **(one machine — one sensor)** \\\n",
    "   or do we have one target for all sensors **(one machine — many sensors)**?\n",
    "6. Is the target **descriptive**, or do we have to identify what \\\n",
    "   counts as **broken** and what as **normal**?\n",
    "7. Is the target information complete and useful?\n",
    "\n",
    "To get some answers, we will get the unique classes and see how many \\\n",
    "values we have for each class. Finding, that the labels are in char \\\n",
    "format (text), we know, that we will have to convert them at some \\\n",
    "point into integer values to be useable for our later Ml algorithms."
   ]
  },
  {
   "cell_type": "code",
   "execution_count": 3,
   "metadata": {},
   "outputs": [
    {
     "name": "stdout",
     "output_type": "stream",
     "text": [
      "status options: \n",
      "['NORMAL' 'BROKEN' 'RECOVERING']\n",
      "\n",
      "status count: \n",
      "NORMAL        205836\n",
      "RECOVERING     14477\n",
      "BROKEN             7\n",
      "Name: machine_status, dtype: int64\n",
      "\n"
     ]
    },
    {
     "data": {
      "image/png": "[encoded data removed]",
      "text/plain": [
       "<Figure size 432x288 with 1 Axes>"
      ]
     },
     "metadata": {
      "needs_background": "light"
     },
     "output_type": "display_data"
    }
   ],
   "source": [
    "import sys\n",
    "import numpy as np\n",
    "from sklearn import preprocessing\n",
    "import matplotlib.pyplot as plt\n",
    "\n",
    "\n",
    "'''\n",
    "Get some info on the target-data\n",
    "'''\n",
    "\n",
    "data_status = data['machine_status'] # get the target data\n",
    "\n",
    "# Get the unique values for the class\n",
    "print('status options: ')\n",
    "print(data_status.unique())\n",
    "print()\n",
    "\n",
    "# Count the number of each class\n",
    "print('status count: ')\n",
    "print(data_status.value_counts())\n",
    "print()\n",
    "\n",
    "\n",
    "'''\n",
    "Convert the classes from string to values by using the scikit-learn mapper\n",
    "'''\n",
    "\n",
    "le = preprocessing.LabelEncoder() # get the label encoder\n",
    "data = np.array(data_status) # get the target data\n",
    "le.fit(data.flatten()) # fit the encoder to the data, flatten() is used to make the data 1D\n",
    "\n",
    "# the following line assigns each entry of 'data' a number\n",
    "# 0 for 'BROKEN', 1 for 'NORMAL' and 2 for 'RECOVERING'\n",
    "encoded_y = pd.DataFrame(le.transform(data), columns=['target'])\n",
    "\n",
    "# with open('long_output.txt', 'w') as f:\n",
    "#     f.write(encoded_y.to_string())\n",
    "#     f.close()\n",
    "# sys.exit(0)\n",
    "\n",
    "# Get the Label map\n",
    "# To be able to later indentify what is what, create a label map\n",
    "# Same as:\n",
    "# le_name_mapping = {\n",
    "#     'BROKEN': 0,\n",
    "#     'NORMAL': 1,\n",
    "#     'RECOVERING': 2\n",
    "# }\n",
    "# zip() creates a list of tuples, where each tuple is a pair of elements\n",
    "# the elements are taken from the two lists given as arguments\n",
    "# le_name_mapping = dict(zip(le.classes_, le.transform(le.classes_)))\n",
    "# print(le_name_mapping)\n",
    "\n",
    "\n",
    "'''\n",
    "Plot the target data\n",
    "'''\n",
    "\n",
    "labels = data_status.unique().tolist() # get the class names\n",
    "x = np.linspace(1, len(encoded_y), len(encoded_y)) # create x-axis (could also be timestamp column)\n",
    "plt.plot(x, encoded_y)\n",
    "plt.ylabel('class')\n",
    "plt.title('Target data')\n",
    "plt.yticks([1, 0, 2], labels, rotation='vertical') # Set the y-ticks to three to only show the classnames\n",
    "plt.show()"
   ]
  },
  {
   "cell_type": "markdown",
   "metadata": {},
   "source": [
    "### Output\n",
    "\n",
    "We see that there are 3 classes in the dataset. \\\n",
    "As mentioned, they are in text form and give us already \\\n",
    "a good indication of what it is about. In other cases, \\\n",
    "you might just receive a status [A, B, C] or similar.\n",
    "\n",
    "After counting the values in each class, we see that we have \\\n",
    "the majority class *Normal*, which is to be expected, as the \\\n",
    "machine should run normally the majority of the time. The \\\n",
    "classes *Recovering* and *Broken* are the minority classes. \\\n",
    "We see directly, that we most likely cannot work with the \\\n",
    "*Broken* class, as **seven** values are not enough to learn any pattern.\n",
    "\n",
    "We also see that by counting the values together, we receive \\\n",
    "the same amount as existing rows. This means there are no \\\n",
    "missing values (NaN) in the target data (of course that could \\\n",
    "also be checked with an isna() function).\n",
    "\n",
    "The plot of the target shows us that the faulty sections \\\n",
    "are not grouped up at e.g., the end, but are rather dispersed \\\n",
    "over the entire data length. This is interesting for a later \\\n",
    "segmentation into train and test sets. We also see, that the \\\n",
    "*Recovering* class always follows the *Broken* class. This means \\\n",
    "that it is not a problem to have only *7* entries for the *Broken* \\\n",
    "class, as we just have to predict the recovering phase to also \\\n",
    "get the *Broken* class.\n",
    "\n",
    "\n",
    "### Results :\n",
    "\n",
    "We have good and complete target data. \\\n",
    "We have one entry for each row, resulting \\\n",
    "    in a *one-machine:many-sensors supervised* \\\n",
    "    learning task."
   ]
  }
 ],
 "metadata": {
  "kernelspec": {
   "display_name": "stations",
   "language": "python",
   "name": "python3"
  },
  "language_info": {
   "codemirror_mode": {
    "name": "ipython",
    "version": 3
   },
   "file_extension": ".py",
   "mimetype": "text/x-python",
   "name": "python",
   "nbconvert_exporter": "python",
   "pygments_lexer": "ipython3",
   "version": "3.6.13"
  },
  "orig_nbformat": 4
 },
 "nbformat": 4,
 "nbformat_minor": 2
}
