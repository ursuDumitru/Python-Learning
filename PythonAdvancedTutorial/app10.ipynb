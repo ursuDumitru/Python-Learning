{
 "cells": [
  {
   "cell_type": "markdown",
   "metadata": {},
   "source": [
    "10. Composite Design Pattern\n",
    "\n",
    "multiple classes that inheret from the same class/interface\n",
    "\n"
   ]
  },
  {
   "cell_type": "code",
   "execution_count": 2,
   "metadata": {},
   "outputs": [
    {
     "name": "stdout",
     "output_type": "stream",
     "text": [
      "Parent Department\n",
      "Parent Department Base Employees : 30\n",
      "Accounting Department: 200\n",
      "Development Department: 170\n",
      "Total number of employees: 400\n"
     ]
    }
   ],
   "source": [
    "from abc import ABCMeta, abstractmethod, abstractstaticmethod\n",
    "\n",
    "class IDepartment(metaclass=ABCMeta):\n",
    "    \n",
    "    @abstractmethod\n",
    "    def __init__(self, employees):\n",
    "        \"\"\" Implement in child class \"\"\"\n",
    "    \n",
    "    @abstractstaticmethod\n",
    "    \n",
    "    def print_department():\n",
    "        \"\"\" Implement in child class \"\"\"\n",
    "\n",
    "\n",
    "class Accounting(IDepartment):\n",
    "    \n",
    "    def __init__(self, employees):\n",
    "        self.employees = employees\n",
    "    \n",
    "    def print_department(self):\n",
    "        print(f\"Accounting Department: {self.employees}\")\n",
    "\n",
    "\n",
    "class Development(IDepartment):\n",
    "    \n",
    "    def __init__(self, employees):\n",
    "        self.employees = employees\n",
    "    \n",
    "    def print_department(self):\n",
    "        print(f\"Development Department: {self.employees}\")\n",
    "\n",
    "\n",
    "class ParentDepartment(IDepartment):\n",
    "    \n",
    "    def __init__(self, employees):\n",
    "        self.employees = employees\n",
    "        self.base_employees = employees\n",
    "        self.sub_depts = []\n",
    "    \n",
    "    def add(self, dept: IDepartment):\n",
    "        self.sub_depts.append(dept)\n",
    "        self.employees += dept.employees\n",
    "    \n",
    "    def print_department(self):\n",
    "        print(\"Parent Department\")\n",
    "        print(f\"Parent Department Base Employees : {self.base_employees}\")\n",
    "        for dept in self.sub_depts:\n",
    "            dept.print_department()\n",
    "        print(f\"Total number of employees: {self.employees}\")\n",
    "\n",
    "\n",
    "dept1 = Accounting(200)\n",
    "dept2 = Development(170)\n",
    "\n",
    "parent_dept = ParentDepartment(30)\n",
    "parent_dept.add(dept1)\n",
    "parent_dept.add(dept2)\n",
    "\n",
    "parent_dept.print_department()"
   ]
  }
 ],
 "metadata": {
  "kernelspec": {
   "display_name": "base",
   "language": "python",
   "name": "python3"
  },
  "language_info": {
   "codemirror_mode": {
    "name": "ipython",
    "version": 3
   },
   "file_extension": ".py",
   "mimetype": "text/x-python",
   "name": "python",
   "nbconvert_exporter": "python",
   "pygments_lexer": "ipython3",
   "version": "3.11.3"
  },
  "orig_nbformat": 4
 },
 "nbformat": 4,
 "nbformat_minor": 2
}
