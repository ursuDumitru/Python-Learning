{
 "cells": [
  {
   "cell_type": "markdown",
   "metadata": {},
   "source": [
    "9. Singleton Design pattern\n",
    "\n",
    "sigleton - a class with a single use(object)"
   ]
  },
  {
   "cell_type": "code",
   "execution_count": 5,
   "metadata": {},
   "outputs": [
    {
     "name": "stdout",
     "output_type": "stream",
     "text": [
      "<__main__.PersonSingleton object at 0x0000012B0C3E2DD0>\n",
      "Name: Mike , Age: 30\n",
      "<__main__.PersonSingleton object at 0x0000012B0C3E2DD0>\n",
      "Name: Mike , Age: 30\n"
     ]
    }
   ],
   "source": [
    "from abc import ABCMeta, abstractstaticmethod\n",
    "\n",
    "class IPerson(metaclass=ABCMeta):\n",
    "    \n",
    "    @abstractstaticmethod\n",
    "    def print_data():\n",
    "        \"\"\" Implement in child class \"\"\"\n",
    "\n",
    "\n",
    "class PersonSingleton(IPerson):\n",
    "    \n",
    "    __instance = None\n",
    "    \n",
    "    @staticmethod\n",
    "    def get_instance():\n",
    "        if PersonSingleton.__instance == None:\n",
    "            PersonSingleton(\"Default Name\", 0)\n",
    "        return PersonSingleton.__instance\n",
    "\n",
    "    def __init__(self, name, age):\n",
    "        if PersonSingleton.__instance != None:\n",
    "            raise Exception(\"singleton cannot be instantiated more than once\")\n",
    "        else:\n",
    "            self.name = name\n",
    "            self.age = age\n",
    "            PersonSingleton.__instance = self\n",
    "\n",
    "    @staticmethod\n",
    "    def print_data():\n",
    "        print(f\"Name: {PersonSingleton.__instance.name} , \" +\n",
    "              f\"Age: {PersonSingleton.__instance.age}\")\n",
    "\n",
    "\n",
    "p1 = PersonSingleton(\"Mike\", 30)\n",
    "print(p1)\n",
    "p1.print_data()\n",
    "\n",
    "# p2 = PersonSingleton(\"Bob\", 25) # doesn't work\n",
    "p2 = PersonSingleton.get_instance()\n",
    "print(p2)\n",
    "p2.print_data()\n",
    "        "
   ]
  },
  {
   "cell_type": "code",
   "execution_count": null,
   "metadata": {},
   "outputs": [],
   "source": []
  }
 ],
 "metadata": {
  "kernelspec": {
   "display_name": "base",
   "language": "python",
   "name": "python3"
  },
  "language_info": {
   "codemirror_mode": {
    "name": "ipython",
    "version": 3
   },
   "file_extension": ".py",
   "mimetype": "text/x-python",
   "name": "python",
   "nbconvert_exporter": "python",
   "pygments_lexer": "ipython3",
   "version": "3.11.3"
  },
  "orig_nbformat": 4
 },
 "nbformat": 4,
 "nbformat_minor": 2
}
