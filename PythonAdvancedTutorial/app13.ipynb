{
 "cells": [
  {
   "cell_type": "markdown",
   "metadata": {},
   "source": [
    "13. Itertools: product, permutations, combinations, accumulate, groupby, infinite iterators"
   ]
  },
  {
   "cell_type": "code",
   "execution_count": 5,
   "metadata": {},
   "outputs": [
    {
     "data": {
      "text/plain": [
       "[(1, 3), (1, 4), (2, 3), (2, 4)]"
      ]
     },
     "execution_count": 5,
     "metadata": {},
     "output_type": "execute_result"
    }
   ],
   "source": [
    "# PRODUCT\n",
    "\n",
    "from itertools import product\n",
    "\n",
    "a = [1, 2]\n",
    "b = [3, 4]\n",
    "\n",
    "prod = product(a, b) # cartizian product\n",
    "# prod = product(a, b, repeat=2)\n",
    "list(prod)"
   ]
  },
  {
   "cell_type": "code",
   "execution_count": 7,
   "metadata": {},
   "outputs": [
    {
     "data": {
      "text/plain": [
       "[(1, 3, 1, 3), (1, 3, 2, 3), (2, 3, 1, 3), (2, 3, 2, 3)]"
      ]
     },
     "execution_count": 7,
     "metadata": {},
     "output_type": "execute_result"
    }
   ],
   "source": [
    "a = [1, 2]\n",
    "b = [3]\n",
    "\n",
    "prod = product(a, b, repeat=2)\n",
    "list(prod)"
   ]
  },
  {
   "cell_type": "code",
   "execution_count": 11,
   "metadata": {},
   "outputs": [
    {
     "name": "stdout",
     "output_type": "stream",
     "text": [
      "[(1, 2, 3), (1, 3, 2), (2, 1, 3), (2, 3, 1), (3, 1, 2), (3, 2, 1)]\n"
     ]
    },
    {
     "data": {
      "text/plain": [
       "[(1, 2), (1, 3), (2, 1), (2, 3), (3, 1), (3, 2)]"
      ]
     },
     "execution_count": 11,
     "metadata": {},
     "output_type": "execute_result"
    }
   ],
   "source": [
    "# PERMUTATIONS\n",
    "\n",
    "from itertools import permutations\n",
    "\n",
    "a = [1, 2, 3]\n",
    "\n",
    "perm = permutations(a)\n",
    "print(list(perm))\n",
    "\n",
    "perm = permutations(a, 2) # the lenght of the permutation\n",
    "list(perm)"
   ]
  },
  {
   "cell_type": "code",
   "execution_count": 19,
   "metadata": {},
   "outputs": [
    {
     "name": "stdout",
     "output_type": "stream",
     "text": [
      "[(1, 2, 3), (1, 2, 4), (1, 3, 4), (2, 3, 4)]\n",
      "[(1, 1), (1, 2), (1, 3), (1, 4), (2, 2), (2, 3), (2, 4), (3, 3), (3, 4), (4, 4)]\n"
     ]
    }
   ],
   "source": [
    "# COMBINATIONS\n",
    "\n",
    "from itertools import combinations, combinations_with_replacement\n",
    "\n",
    "a = [1, 2, 3, 4]\n",
    "\n",
    "comb = combinations(a, 3) # length is mandatory\n",
    "print(list(comb))\n",
    "\n",
    "comb_wr = combinations_with_replacement(a, 2)\n",
    "print(list(comb_wr))"
   ]
  },
  {
   "cell_type": "code",
   "execution_count": 24,
   "metadata": {},
   "outputs": [
    {
     "name": "stdout",
     "output_type": "stream",
     "text": [
      "[1, 2, 3, 4]\n",
      "[1, 3, 6, 10]\n",
      "[1, 2, 6, 24]\n",
      "[1, 2, 5, 5, 5]\n"
     ]
    }
   ],
   "source": [
    "# ACCUMULATE\n",
    "\n",
    "from itertools import accumulate\n",
    "import operator\n",
    "\n",
    "a = [1, 2, 3, 4]\n",
    "\n",
    "acc = accumulate(a)\n",
    "print(a)\n",
    "print(list(acc))\n",
    "\n",
    "acc = accumulate(a, func=operator.mul) # multiplty\n",
    "print(list(acc))\n",
    "\n",
    "a = [1, 2, 5, 3, 4]\n",
    "acc = accumulate(a, func=max)\n",
    "print(list(acc))"
   ]
  },
  {
   "cell_type": "code",
   "execution_count": 26,
   "metadata": {},
   "outputs": [
    {
     "name": "stdout",
     "output_type": "stream",
     "text": [
      "<itertools.groupby object at 0x0000026DD9F489F0>\n",
      "True [1, 2]\n",
      "False [3, 4]\n"
     ]
    }
   ],
   "source": [
    "# GROUPBY\n",
    "\n",
    "from itertools import groupby\n",
    "\n",
    "def smaller_than_3(x):\n",
    "    return x < 3\n",
    "\n",
    "a = [1, 2 , 3, 4]\n",
    "group_obj = groupby(a, key=smaller_than_3)\n",
    "print(group_obj)\n",
    "\n",
    "for key, value in group_obj:\n",
    "    print(key, list(value))"
   ]
  },
  {
   "cell_type": "code",
   "execution_count": 27,
   "metadata": {},
   "outputs": [
    {
     "name": "stdout",
     "output_type": "stream",
     "text": [
      "<itertools.groupby object at 0x0000026DD9F48E50>\n",
      "True [1, 2]\n",
      "False [3, 4]\n"
     ]
    }
   ],
   "source": [
    "from itertools import groupby\n",
    "\n",
    "a = [1, 2 , 3, 4]\n",
    "group_obj = groupby(a, key=lambda x: x < 3)\n",
    "print(group_obj)\n",
    "\n",
    "for key, value in group_obj:\n",
    "    print(key, list(value))"
   ]
  },
  {
   "cell_type": "code",
   "execution_count": 32,
   "metadata": {},
   "outputs": [
    {
     "name": "stdout",
     "output_type": "stream",
     "text": [
      "10\n",
      "11\n",
      "12\n",
      "13\n",
      "14\n",
      "15\n"
     ]
    }
   ],
   "source": [
    "from itertools import count, cycle, repeat\n",
    "\n",
    "for i in count(10): # add 1 to infinity\n",
    "    print(i)\n",
    "    if i == 15:\n",
    "        break\n",
    "\n",
    "\n",
    "a = [1, 2, 3]\n",
    "for i in cycle(a): # cycles through a infinitely\n",
    "    print(i)\n",
    "\n",
    "\n",
    "for i in repeat(1, 4): # repeats i as 1 infinitely, second arguments is how many times\n",
    "    print(i)"
   ]
  }
 ],
 "metadata": {
  "kernelspec": {
   "display_name": "base",
   "language": "python",
   "name": "python3"
  },
  "language_info": {
   "codemirror_mode": {
    "name": "ipython",
    "version": 3
   },
   "file_extension": ".py",
   "mimetype": "text/x-python",
   "name": "python",
   "nbconvert_exporter": "python",
   "pygments_lexer": "ipython3",
   "version": "3.11.3"
  },
  "orig_nbformat": 4
 },
 "nbformat": 4,
 "nbformat_minor": 2
}
