{
 "cells": [
  {
   "cell_type": "markdown",
   "id": "ff0ee893",
   "metadata": {
    "papermill": {
     "duration": 0,
     "end_time": "2023-08-03T19:25:44.809280",
     "exception": false,
     "start_time": "2023-08-03T19:25:44.809280",
     "status": "completed"
    },
    "tags": []
   },
   "source": [
    "4. Argument Parsing\n"
   ]
  },
  {
   "cell_type": "code",
   "execution_count": 3,
   "id": "b8557cfc",
   "metadata": {
    "execution": {
     "iopub.execute_input": "2023-08-03T19:25:44.829633Z",
     "iopub.status.busy": "2023-08-03T19:25:44.828603Z",
     "iopub.status.idle": "2023-08-03T19:25:44.842821Z",
     "shell.execute_reply": "2023-08-03T19:25:44.842821Z"
    },
    "papermill": {
     "duration": 0.018689,
     "end_time": "2023-08-03T19:25:44.843822",
     "exception": false,
     "start_time": "2023-08-03T19:25:44.825133",
     "status": "completed"
    },
    "tags": []
   },
   "outputs": [
    {
     "name": "stdout",
     "output_type": "stream",
     "text": [
      "c:\\Users\\ursu\\AppData\\Local\\anaconda3\\envs\\penv\\Lib\\site-packages\\ipykernel_launcher.py\n",
      "--ip=127.0.0.1\n",
      "--stdin=9021\n",
      "--control=9019\n",
      "--hb=9018\n",
      "--Session.signature_scheme=\"hmac-sha256\"\n"
     ]
    }
   ],
   "source": [
    "\n",
    "import sys\n",
    "\n",
    "print(sys.argv[0])\n",
    "print(sys.argv[1])\n",
    "print(sys.argv[2])\n",
    "print(sys.argv[3])\n",
    "print(sys.argv[4])\n",
    "print(sys.argv[5])\n",
    "\n",
    "# def myfunction(*args, **kwargs): # we use this so that we can pass the arguments without knowing what they are\n",
    "#     print(args[0])\n",
    "#     print(args[1])\n",
    "#     print(args[2])\n",
    "#     print(args[3])\n",
    "#     print(kwargs['KEYONE'])\n",
    "#     print(kwargs['KEYTWO'])\n",
    "\n",
    "# myfunction('hey', True, 20, 'wow', KEYONE=\"TEST\", KEYTWO=7)"
   ]
  }
 ],
 "metadata": {
  "kernelspec": {
   "display_name": "pkernel",
   "language": "python",
   "name": "pkernel"
  },
  "language_info": {
   "codemirror_mode": {
    "name": "ipython",
    "version": 3
   },
   "file_extension": ".py",
   "mimetype": "text/x-python",
   "name": "python",
   "nbconvert_exporter": "python",
   "pygments_lexer": "ipython3",
   "version": "3.11.4"
  },
  "papermill": {
   "default_parameters": {},
   "duration": 4.127732,
   "end_time": "2023-08-03T19:25:45.094279",
   "environment_variables": {},
   "exception": null,
   "input_path": "PythonAdvancedTutorial\\app4.ipynb",
   "output_path": "PythonAdvancedTutorial\\output4.ipynb",
   "parameters": {},
   "start_time": "2023-08-03T19:25:40.966547",
   "version": "2.3.4"
  }
 },
 "nbformat": 4,
 "nbformat_minor": 5
}
