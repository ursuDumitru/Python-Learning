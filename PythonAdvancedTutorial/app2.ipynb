{
 "cells": [
  {
   "cell_type": "markdown",
   "metadata": {},
   "source": [
    "2. Decorators\n",
    "\n",
    "In Python, a decorator is a powerful and flexible design pattern\n",
    "that allows you to modify or extend the behavior of functions or\n",
    "methods without changing their code. Decorators are used to wrap\n",
    "functions with other functions, enhancing their functionality or\n",
    "adding extra processing before or after their execution.\n",
    "\n",
    "The following is a demonstration, not the way we use decorator in python"
   ]
  },
  {
   "cell_type": "code",
   "execution_count": 7,
   "metadata": {},
   "outputs": [
    {
     "name": "stdout",
     "output_type": "stream",
     "text": [
      "I am decorating your function, Dima\n",
      "Hello World !\n",
      "I am decorating your function, Mike\n",
      "Hello World !\n"
     ]
    }
   ],
   "source": [
    "def mydecorator(function):\n",
    "    \n",
    "    def wrapper(name):\n",
    "        print(f\"I am decorating your function, {name}\")\n",
    "        function()\n",
    "        \n",
    "    return wrapper\n",
    "\n",
    "\n",
    "def hello_world():\n",
    "    print(\"Hello World !\")\n",
    "    \n",
    "\n",
    "# here \"wraper\" is returned and \"()\" is added so that it will be called\n",
    "mydecorator(hello_world)('Dima') # pass function as a reference\n",
    "\n",
    "fun_return = mydecorator(hello_world)\n",
    "fun_return(\"Mike\")\n"
   ]
  },
  {
   "cell_type": "markdown",
   "metadata": {},
   "source": [
    "The way to do it in Python(using annotations)\n",
    "\n",
    "Becouse we want decorator functions to be accesible to multiple functions\n",
    "we use '*args' and '**kwargs'"
   ]
  },
  {
   "cell_type": "code",
   "execution_count": 18,
   "metadata": {},
   "outputs": [
    {
     "name": "stdout",
     "output_type": "stream",
     "text": [
      "Inside Function\n",
      "I am decorating your function\n",
      "Hello Dima !\n"
     ]
    }
   ],
   "source": [
    "def mydecorator(function):\n",
    "    \n",
    "    def wrapper(*args, **kwargs):\n",
    "        print(\"I am decorating your function\")\n",
    "        function(*args, **kwargs)\n",
    "    \n",
    "    print(\"Inside Function\")\n",
    "    return wrapper\n",
    "\n",
    "\n",
    "@mydecorator\n",
    "def hello(person):\n",
    "    print(f\"Hello {person} !\")\n",
    "    \n",
    "hello('Dima')"
   ]
  },
  {
   "cell_type": "markdown",
   "metadata": {},
   "source": [
    "In case we do not print but return the value inside 'hello'"
   ]
  },
  {
   "cell_type": "code",
   "execution_count": 19,
   "metadata": {},
   "outputs": [
    {
     "name": "stdout",
     "output_type": "stream",
     "text": [
      "Inside Function\n",
      "I am decorating your function\n"
     ]
    },
    {
     "data": {
      "text/plain": [
       "'Hello Dima !'"
      ]
     },
     "execution_count": 19,
     "metadata": {},
     "output_type": "execute_result"
    }
   ],
   "source": [
    "def mydecorator(function):\n",
    "    \n",
    "    def wrapper(*args, **kwargs):\n",
    "        print(\"I am decorating your function\")\n",
    "        return function(*args, **kwargs)\n",
    "    \n",
    "    print(\"Inside Function\")\n",
    "    return wrapper\n",
    "\n",
    "\n",
    "@mydecorator\n",
    "def hello(person):\n",
    "    return f\"Hello {person} !\" \n",
    "    \n",
    "hello('Dima')"
   ]
  },
  {
   "cell_type": "markdown",
   "metadata": {},
   "source": [
    "If you wnat to execute your function then decorate it, store the function result in a variable\n",
    "N.B. 'Shift' + 'Ctrl' + 'Up/Down' = move the current line down or up"
   ]
  },
  {
   "cell_type": "code",
   "execution_count": 25,
   "metadata": {},
   "outputs": [
    {
     "name": "stdout",
     "output_type": "stream",
     "text": [
      "Hello Dima !\n",
      "I am decorating your function\n",
      "Hello Dima ! returned\n"
     ]
    }
   ],
   "source": [
    "def mydecorator(function):\n",
    "    \n",
    "    def wrapper(*args, **kwargs):\n",
    "        return_value = function(*args, **kwargs) # This is executed and print for 'hello' is printed\n",
    "        print(\"I am decorating your function\") # Then this is printed\n",
    "        return return_value + ' returned'\n",
    "    \n",
    "    return wrapper\n",
    "\n",
    "\n",
    "@mydecorator\n",
    "def hello(person):\n",
    "    print(f\"Hello {person} !\")\n",
    "    return f\"Hello {person} !\" \n",
    "    \n",
    "print(hello('Dima')) # This is the last print, using the function return value"
   ]
  },
  {
   "cell_type": "markdown",
   "metadata": {},
   "source": [
    "\n",
    "Practical Example #1 - Logging"
   ]
  },
  {
   "cell_type": "code",
   "execution_count": null,
   "metadata": {},
   "outputs": [],
   "source": [
    "def logged(function):\n",
    "    def wrapper(*args, **kwargs):\n",
    "        value = function(*args, **kwargs)"
   ]
  }
 ],
 "metadata": {
  "kernelspec": {
   "display_name": "Python 3",
   "language": "python",
   "name": "python3"
  },
  "language_info": {
   "codemirror_mode": {
    "name": "ipython",
    "version": 3
   },
   "file_extension": ".py",
   "mimetype": "text/x-python",
   "name": "python",
   "nbconvert_exporter": "python",
   "pygments_lexer": "ipython3",
   "version": "3.11.3"
  },
  "orig_nbformat": 4
 },
 "nbformat": 4,
 "nbformat_minor": 2
}
