{
 "cells": [
  {
   "cell_type": "markdown",
   "metadata": {},
   "source": [
    "1. Magic Methods and Dunder\n",
    "\n",
    "Dunder (or Magic Methods) -> __ (double underscore)\n",
    "    Ex : __init__(self)\n",
    "\n",
    "Python automatically deletes objects"
   ]
  },
  {
   "cell_type": "code",
   "execution_count": 5,
   "metadata": {},
   "outputs": [
    {
     "name": "stdout",
     "output_type": "stream",
     "text": [
      "Object is being deconstructed\n",
      "finish\n"
     ]
    }
   ],
   "source": [
    "class Person:\n",
    "\n",
    "    def __init__(self, name, age): # constructor\n",
    "        self.name = name\n",
    "        self.age = age\n",
    "\n",
    "    def __del__(self): # deconstructor\n",
    "        print(\"Object is being deconstructed\")\n",
    "    \n",
    "\n",
    "person = Person(\"Mike\", 25)\n",
    "\n",
    "del person # manually delete an object\n",
    "print(\"finish\")"
   ]
  },
  {
   "cell_type": "code",
   "execution_count": 14,
   "metadata": {},
   "outputs": [
    {
     "name": "stdout",
     "output_type": "stream",
     "text": [
      "Vector object called!\n"
     ]
    },
    {
     "data": {
      "text/plain": [
       "x: 60, y: 80"
      ]
     },
     "execution_count": 14,
     "metadata": {},
     "output_type": "execute_result"
    }
   ],
   "source": [
    "\n",
    "class Vector:\n",
    "    \n",
    "    def __init__(self, x, y):\n",
    "        self.x = x\n",
    "        self.y = y\n",
    "        \n",
    "    def __add__(self, other): # OVERLOADING \"+\" operator\n",
    "        return Vector(self.x + other.x,\n",
    "                      self.y + other.y)\n",
    "\n",
    "    def __repr__(self): # Overload how Vector is represented\n",
    "        return f\"x: {self.x}, y: {self.y}\"\n",
    "    \n",
    "    def __call__(self):\n",
    "        print(\"Vector object called!\")\n",
    "    \n",
    "    # def __str__(self): # changes how the vector casts to a string\n",
    "        \n",
    "\n",
    "v1 = Vector(10, 20)\n",
    "v2 = Vector(50, 60)\n",
    "\n",
    "# if we did not overload \"+\" operator, Python doesn't know what to do\n",
    "v3 = v1 + v2\n",
    "\n",
    "# v3.x, v3.y # prints\n",
    "v3()\n",
    "v3"
   ]
  }
 ],
 "metadata": {
  "kernelspec": {
   "display_name": "Python 3",
   "language": "python",
   "name": "python3"
  },
  "language_info": {
   "codemirror_mode": {
    "name": "ipython",
    "version": 3
   },
   "file_extension": ".py",
   "mimetype": "text/x-python",
   "name": "python",
   "nbconvert_exporter": "python",
   "pygments_lexer": "ipython3",
   "version": "3.11.3"
  },
  "orig_nbformat": 4
 },
 "nbformat": 4,
 "nbformat_minor": 2
}
