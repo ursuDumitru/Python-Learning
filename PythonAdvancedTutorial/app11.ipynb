{
 "cells": [
  {
   "cell_type": "markdown",
   "metadata": {},
   "source": [
    "11. Advanced Dinctionareies: defaultdict in Python"
   ]
  },
  {
   "cell_type": "code",
   "execution_count": 3,
   "metadata": {},
   "outputs": [
    {
     "name": "stdout",
     "output_type": "stream",
     "text": [
      "{}\n"
     ]
    }
   ],
   "source": [
    "# my_dict = {}\n",
    "my_dict = dict() # another way to initialize empty dictionaries\n",
    "\n",
    "print(my_dict)\n",
    "# print(my_dict['name']) # error : 'name' doesn't exist\n",
    "# my_dict['age'] += 10 # doesn't work because 'age' key doesn't exist"
   ]
  },
  {
   "cell_type": "markdown",
   "metadata": {},
   "source": [
    "These problems change when you use default dictionaries"
   ]
  },
  {
   "cell_type": "code",
   "execution_count": 6,
   "metadata": {},
   "outputs": [
    {
     "name": "stdout",
     "output_type": "stream",
     "text": [
      "defaultdict(<class 'int'>, {})\n",
      "0\n",
      "defaultdict(<class 'int'>, {'age': 0, 'some_other_value': 20})\n"
     ]
    }
   ],
   "source": [
    "from collections import defaultdict\n",
    "\n",
    "my_dict1 = defaultdict(int)\n",
    "\n",
    "print(my_dict1)\n",
    "\n",
    "print(my_dict1['age']) # now this works, assigns by default 0\n",
    "my_dict1['some_other_value'] += 20\n",
    "\n",
    "print(my_dict1)\n"
   ]
  },
  {
   "cell_type": "code",
   "execution_count": 9,
   "metadata": {},
   "outputs": [
    {
     "data": {
      "text/plain": [
       "defaultdict(int, {'person4': 10})"
      ]
     },
     "execution_count": 9,
     "metadata": {},
     "output_type": "execute_result"
    }
   ],
   "source": [
    "values = {\n",
    "    'person1': 0,\n",
    "    'person2': 0,\n",
    "    'person3': 0,\n",
    "}\n",
    "\n",
    "values1 = defaultdict(int)\n",
    "\n",
    "# values['person4'] += 10 # doesn't work\n",
    "values1['person4'] += 10 # works\n",
    "values1"
   ]
  },
  {
   "cell_type": "code",
   "execution_count": 11,
   "metadata": {},
   "outputs": [
    {
     "name": "stdout",
     "output_type": "stream",
     "text": [
      "defaultdict(<class 'int'>, {'1': 3, '2': 3, '3': 2, '4': 1, '5': 1})\n"
     ]
    }
   ],
   "source": [
    "mylist = [1, 2, 3, 2, 1, 3, 4, 5, 1, 2]\n",
    "\n",
    "counter = defaultdict(int)\n",
    "\n",
    "for element in mylist:\n",
    "    counter[str(element)] += 1\n",
    "\n",
    "print(counter)"
   ]
  },
  {
   "cell_type": "code",
   "execution_count": 13,
   "metadata": {},
   "outputs": [
    {
     "name": "stdout",
     "output_type": "stream",
     "text": [
      "defaultdict(<class 'list'>, {'a': ['apple', 'avocado'], 'b': ['banana', 'brocoli'], 'c': ['carrot'], 'o': ['orange']})\n"
     ]
    }
   ],
   "source": [
    "words = ['apple', 'banana', 'carrot', 'avocado', 'brocoli', 'orange']\n",
    "\n",
    "grouped_words = defaultdict(list) # doing this instead of creating empty list for each letter\n",
    "\n",
    "for word in words:\n",
    "    grouped_words[word[0]].append(word)\n",
    "\n",
    "print(grouped_words)"
   ]
  },
  {
   "cell_type": "code",
   "execution_count": 15,
   "metadata": {},
   "outputs": [
    {
     "name": "stdout",
     "output_type": "stream",
     "text": [
      "defaultdict(<class 'list'>, {'A': [10, 5], 'B': [4, 1], 'C': [7]})\n",
      "{'A': 15, 'B': 5, 'C': 7}\n"
     ]
    }
   ],
   "source": [
    "tuple_list = [('A', 10), ('B', 4), ('A', 5), ('C', 7), ('B', 1)] # aggregate this tuple list\n",
    "\n",
    "grouped_data = defaultdict(list)\n",
    "\n",
    "for key, value in tuple_list:\n",
    "    grouped_data[key].append(value)\n",
    "\n",
    "print(grouped_data)\n",
    "\n",
    "grouped_data = {k: sum(v) for k, v in grouped_data.items()}\n",
    "\n",
    "print(grouped_data)\n"
   ]
  },
  {
   "cell_type": "code",
   "execution_count": 16,
   "metadata": {},
   "outputs": [
    {
     "name": "stdout",
     "output_type": "stream",
     "text": [
      "5\n",
      "2\n",
      "MyDefaultDict(None, {'hello': 5, 'hi': 2})\n"
     ]
    }
   ],
   "source": [
    "class MyDefaultDict(defaultdict):\n",
    "    def __missing__(self, key):\n",
    "        self[key] = value = len(key)\n",
    "        return value\n",
    "\n",
    "test = MyDefaultDict()\n",
    "\n",
    "print(test['hello'])\n",
    "print(test['hi'])\n",
    "print(test)"
   ]
  },
  {
   "cell_type": "code",
   "execution_count": 18,
   "metadata": {},
   "outputs": [
    {
     "name": "stdout",
     "output_type": "stream",
     "text": [
      "hello world\n"
     ]
    }
   ],
   "source": [
    "constant_default_dict = defaultdict(lambda: 'hello world') # assigns the default value for each new key\n",
    "\n",
    "print(constant_default_dict['hello'])\n",
    "\n",
    "\n"
   ]
  }
 ],
 "metadata": {
  "kernelspec": {
   "display_name": "base",
   "language": "python",
   "name": "python3"
  },
  "language_info": {
   "codemirror_mode": {
    "name": "ipython",
    "version": 3
   },
   "file_extension": ".py",
   "mimetype": "text/x-python",
   "name": "python",
   "nbconvert_exporter": "python",
   "pygments_lexer": "ipython3",
   "version": "3.11.3"
  },
  "orig_nbformat": 4
 },
 "nbformat": 4,
 "nbformat_minor": 2
}
