{
 "cells": [
  {
   "cell_type": "markdown",
   "metadata": {},
   "source": [
    "6. Type Hinting\n",
    "\n",
    "Python is a dinamically typed language (we do not know what data types we are dealing with until run time)\n",
    "\n",
    "Tool : mypy\n",
    "\n",
    "We can do : 'mypy app6.py' and see the error"
   ]
  },
  {
   "cell_type": "code",
   "execution_count": null,
   "metadata": {},
   "outputs": [],
   "source": [
    "# we do not know the type of the parameter\n",
    "def myfunction(myparameter):\n",
    "    # if type(myparameter) == ... # check at compile time\n",
    "    pass\n",
    "\n"
   ]
  },
  {
   "cell_type": "code",
   "execution_count": 2,
   "metadata": {},
   "outputs": [
    {
     "name": "stdout",
     "output_type": "stream",
     "text": [
      "Hello World!\n"
     ]
    }
   ],
   "source": [
    "def myfunction1(myparameter: int): # i'm expecting a int but doesn't really do much\n",
    "    print(myparameter)\n",
    "\n",
    "# myfunction1(\"Hello World!\") # works witout mypy\n",
    "\n"
   ]
  }
 ],
 "metadata": {
  "kernelspec": {
   "display_name": "base",
   "language": "python",
   "name": "python3"
  },
  "language_info": {
   "codemirror_mode": {
    "name": "ipython",
    "version": 3
   },
   "file_extension": ".py",
   "mimetype": "text/x-python",
   "name": "python",
   "nbconvert_exporter": "python",
   "pygments_lexer": "ipython3",
   "version": "3.11.3"
  },
  "orig_nbformat": 4
 },
 "nbformat": 4,
 "nbformat_minor": 2
}
