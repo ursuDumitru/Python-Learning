{
 "cells": [
  {
   "cell_type": "markdown",
   "metadata": {},
   "source": [
    "14. Lambda Functions\n",
    "\n",
    "is a small, 1 line, anonymous function\n",
    "\n",
    "# lambda arguments: expresion\n",
    "\n",
    "most of the time used only once\n",
    "or for functions that take as an argument other functions\n",
    "\n",
    "# map(function, seq)\n",
    "\n",
    "# filter(function, seq)\n",
    "returns true or false for each element by evaluating them\n",
    "\n",
    "# reduce(funct, seq)\n",
    "repeteadly applies the function to the elements and returns a single value"
   ]
  },
  {
   "cell_type": "code",
   "execution_count": 1,
   "metadata": {},
   "outputs": [
    {
     "name": "stdout",
     "output_type": "stream",
     "text": [
      "15\n"
     ]
    }
   ],
   "source": [
    "add10 = lambda x: x + 10 # returns the result\n",
    "\n",
    "print(add10(5))"
   ]
  },
  {
   "cell_type": "code",
   "execution_count": 2,
   "metadata": {},
   "outputs": [
    {
     "name": "stdout",
     "output_type": "stream",
     "text": [
      "14\n"
     ]
    }
   ],
   "source": [
    "mult = lambda x,y: x * y\n",
    "\n",
    "print(mult(2,7))"
   ]
  },
  {
   "cell_type": "code",
   "execution_count": 5,
   "metadata": {},
   "outputs": [
    {
     "name": "stdout",
     "output_type": "stream",
     "text": [
      "[(1, 2), (15, 1), (5, -1), (10, 4)]\n",
      "[(1, 2), (5, -1), (10, 4), (15, 1)]\n",
      "[(5, -1), (15, 1), (1, 2), (10, 4)]\n",
      "[(1, 2), (5, -1), (10, 4), (15, 1)]\n"
     ]
    }
   ],
   "source": [
    "points2D = [(1, 2), (15, 1), (5, -1), (10, 4)]\n",
    "\n",
    "points2D_sorted_by_x = sorted(points2D) # sorts by the first element of the tuples\n",
    "points2D_sorted_by_y = sorted(points2D, key=lambda x: x[1]) # this lambda funciton is run for every element of the list\n",
    "points2D_sorted_by_sum = sorted(points2D, key=lambda x: x[0] + x[1])\n",
    "\n",
    "print(points2D)\n",
    "print(points2D_sorted_by_x)\n",
    "print(points2D_sorted_by_y)\n",
    "print(points2D_sorted_by_sum)"
   ]
  },
  {
   "cell_type": "code",
   "execution_count": 8,
   "metadata": {},
   "outputs": [
    {
     "name": "stdout",
     "output_type": "stream",
     "text": [
      "[2, 4, 6, 8, 10]\n",
      "[2, 4, 6, 8, 10]\n"
     ]
    }
   ],
   "source": [
    "# map\n",
    "\n",
    "a = [1, 2, 3, 4, 5]\n",
    "b = map(lambda x: x*2, a) # multiply each elemnt of 'a' by 2\n",
    "\n",
    "print(list(b))\n",
    "\n",
    "# can also be done like this : # not related to lambda\n",
    "# list comprehesion ?\n",
    "c = [x*2 for x in a]\n",
    "print(c)"
   ]
  },
  {
   "cell_type": "code",
   "execution_count": 10,
   "metadata": {},
   "outputs": [
    {
     "name": "stdout",
     "output_type": "stream",
     "text": [
      "[2, 4, 6]\n",
      "[2, 4, 6]\n"
     ]
    }
   ],
   "source": [
    "# filter\n",
    "\n",
    "a = [1, 2, 3, 4, 5, 6]\n",
    "b = filter(lambda x: x%2==0, a) # only even elemnts\n",
    "\n",
    "print(list(b))\n",
    "\n",
    "# list comprehesion\n",
    "c = [x for x in a if x%2==0]\n",
    "print(c)"
   ]
  },
  {
   "cell_type": "code",
   "execution_count": 11,
   "metadata": {},
   "outputs": [
    {
     "name": "stdout",
     "output_type": "stream",
     "text": [
      "720\n"
     ]
    }
   ],
   "source": [
    "# reduce\n",
    "from functools import reduce\n",
    "\n",
    "a = [1, 2, 3, 4, 5, 6]\n",
    "\n",
    "product_a = reduce(lambda x,y: x*y, a)\n",
    "print(product_a)"
   ]
  }
 ],
 "metadata": {
  "kernelspec": {
   "display_name": "base",
   "language": "python",
   "name": "python3"
  },
  "language_info": {
   "codemirror_mode": {
    "name": "ipython",
    "version": 3
   },
   "file_extension": ".py",
   "mimetype": "text/x-python",
   "name": "python",
   "nbconvert_exporter": "python",
   "pygments_lexer": "ipython3",
   "version": "3.11.3"
  },
  "orig_nbformat": 4
 },
 "nbformat": 4,
 "nbformat_minor": 2
}
