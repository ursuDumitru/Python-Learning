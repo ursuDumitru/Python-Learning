{
 "cells": [
  {
   "cell_type": "markdown",
   "metadata": {},
   "source": [
    "## 1. Import Dependencies and Data\n",
    "\n",
    "```bash\n",
    "# once\n",
    "conda create -n gan_image_generation python=3.7.1\n",
    "\n",
    "# every time\n",
    "conda activate gan_image_generation\n",
    "\n",
    "conda deactivate\n",
    "\n",
    "# CUDA\n",
    "conda install -c nvidia cuda-python\n",
    "# tensorflow-gpu is inside tensorflow\n",
    "pip install tensorflow matplotlib tensorflow-datasets ipywidgets\n",
    "# or\n",
    "pip install -r requirements.txt\n",
    "\n",
    "# once or everytime a lib is updated\n",
    "rm -rf requirements.txt && pip freeze > requirements.txt\n",
    "```"
   ]
  },
  {
   "cell_type": "code",
   "execution_count": null,
   "metadata": {},
   "outputs": [],
   "source": []
  }
 ],
 "metadata": {
  "language_info": {
   "name": "python"
  },
  "orig_nbformat": 4
 },
 "nbformat": 4,
 "nbformat_minor": 2
}
