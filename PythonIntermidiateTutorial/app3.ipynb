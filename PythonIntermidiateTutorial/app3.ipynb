{
 "cells": [
  {
   "cell_type": "markdown",
   "metadata": {},
   "source": [
    "3. Events and Daemon Threads\n",
    "\n",
    "events are things that we can trigger and react with them\n",
    "\n",
    "Events:"
   ]
  },
  {
   "cell_type": "code",
   "execution_count": null,
   "metadata": {},
   "outputs": [],
   "source": [
    "import threading\n",
    "\n",
    "event = threading.Event()\n",
    "\n",
    "def myfunction():\n",
    "    print('Waiting for the event to trigger...')\n",
    "    event.wait()\n",
    "    print('Performing action after triggering the event')\n",
    "\n",
    "t1 = threading.Thread(target=myfunction)\n",
    "t1.start()\n",
    "\n",
    "x = input('\\nDo you want to trigger the event ? (y/n)')\n",
    "\n",
    "if x == 'y':\n",
    "    event.set()"
   ]
  },
  {
   "cell_type": "markdown",
   "metadata": {},
   "source": [
    "Daemon Threads :\n",
    "\n",
    "Daemon threads aren't waited for\n",
    "doesn't matter if they are stil running"
   ]
  },
  {
   "cell_type": "code",
   "execution_count": null,
   "metadata": {},
   "outputs": [],
   "source": [
    "import threading, time\n",
    "\n",
    "path = 'text.txt'\n",
    "text = ''\n",
    "\n",
    "def readFile():\n",
    "    global path, text\n",
    "    while True:\n",
    "        with open(path, \"r\") as f:\n",
    "            text = f.read()\n",
    "        time.sleep(3)\n",
    "\n",
    "def printLoop():\n",
    "    for x in range(30):\n",
    "        print(text)\n",
    "        time.sleep(1)\n",
    "\n",
    "t1 = threading.Thread(target=readFile, daemon=True)\n",
    "t2 = threading.Thread(target=printLoop)\n",
    "\n",
    "t1.start()\n",
    "t2.start()"
   ]
  }
 ],
 "metadata": {
  "language_info": {
   "name": "python"
  },
  "orig_nbformat": 4
 },
 "nbformat": 4,
 "nbformat_minor": 2
}
