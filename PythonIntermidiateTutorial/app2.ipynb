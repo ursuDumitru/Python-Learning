{
 "cells": [
  {
   "cell_type": "markdown",
   "metadata": {},
   "source": [
    "2. Synchronizing Threads\n",
    "\n",
    "# for running threads code use app_threading.py\n",
    "\n",
    "global -> says "
   ]
  },
  {
   "cell_type": "code",
   "execution_count": 2,
   "metadata": {},
   "outputs": [
    {
     "name": "stdout",
     "output_type": "stream",
     "text": [
      "5\n",
      "10\n"
     ]
    }
   ],
   "source": [
    "# This example shows why we need 'global'\n",
    "\n",
    "x = 10\n",
    "\n",
    "def modify_x():\n",
    "    x = 5 # this is not x from line 3, but x from the scope inside the function\n",
    "    print(x)\n",
    "\n",
    "modify_x()\n",
    "print(x)"
   ]
  },
  {
   "cell_type": "markdown",
   "metadata": {},
   "source": [
    "The following program makes 2 threads, 1 doubles x and the other halves it\n",
    "x is a global resource so it is an infinite loop"
   ]
  },
  {
   "cell_type": "code",
   "execution_count": null,
   "metadata": {},
   "outputs": [],
   "source": [
    "import threading, time\n",
    "\n",
    "x = 8192\n",
    "\n",
    "def double():\n",
    "    global x\n",
    "    while x < 16384:\n",
    "        x *= 2\n",
    "        print(x)\n",
    "        time.sleep(1) # tells the program to wait x amount of seconds\n",
    "    print(\"Reached the maximum!\")\n",
    "\n",
    "def halve():\n",
    "    global x\n",
    "    while x > 1:\n",
    "        x /= 2\n",
    "        print(x)\n",
    "        time.sleep(1)\n",
    "    print('Reached the minimum!')\n",
    "\n",
    "t1 = threading.Thread(target=halve)\n",
    "t2 = threading.Thread(target=double)\n",
    "\n",
    "t1.start()\n",
    "t2.start()"
   ]
  },
  {
   "cell_type": "markdown",
   "metadata": {},
   "source": [
    "threading.Lock() -> forbids us from accesing a resource,\n",
    "lock the resource so that only one thread at a time can access the resource\n",
    "\n",
    "lock.acquire() -> if another thread locked a resource, w cannot lock it again; if unlocked, lock\n",
    "\n"
   ]
  },
  {
   "cell_type": "code",
   "execution_count": null,
   "metadata": {},
   "outputs": [],
   "source": [
    "import threading, time\n",
    "\n",
    "x = 8192\n",
    "\n",
    "lock = threading.Lock()\n",
    "\n",
    "def double():\n",
    "    global x, lock\n",
    "    lock.acquire()\n",
    "    while x < 16384:\n",
    "        x *= 2\n",
    "        print(x)\n",
    "        time.sleep(1)\n",
    "    print(\"Reached the maximum!\")\n",
    "    lock.release()\n",
    "\n",
    "def halve():\n",
    "    global x, lock\n",
    "    lock.acquire()\n",
    "    while x > 1:\n",
    "        x /= 2\n",
    "        print(x)\n",
    "        time.sleep(1)\n",
    "    print('Reached the minimum!')\n",
    "    lock.release()\n",
    "\n",
    "t1 = threading.Thread(target=halve)\n",
    "t2 = threading.Thread(target=double)\n",
    "\n",
    "t1.start()\n",
    "t2.start()"
   ]
  },
  {
   "cell_type": "markdown",
   "metadata": {},
   "source": [
    "Another way to lock the resource\n",
    "\n",
    "multiple threads can acces the resource but not unlimited\n",
    "\n",
    "# \"{} just a string\".format(...) == f\"{...} just a string\"\n",
    "\n",
    "args=(thread_number,) -> this is how you specify a number to a thread"
   ]
  },
  {
   "cell_type": "code",
   "execution_count": null,
   "metadata": {},
   "outputs": [],
   "source": [
    "import threading\n",
    "import time\n",
    "\n",
    "semaphore = threading.BoundedSemaphore(value=5)\n",
    "\n",
    "def access(thread_number):\n",
    "    print(f'{thread_number} is trying to access !')\n",
    "    semaphore.acquire()\n",
    "    print(f'{thread_number} was granted access !')\n",
    "    time.sleep(10)\n",
    "    print(f'{thread_number} is now releasing !')\n",
    "    semaphore.release()\n",
    "\n",
    "for thread_number in range(1, 11):\n",
    "    t = threading.Thread(target=access, args=(thread_number,))\n",
    "    t.start()\n",
    "    time.sleep(1)"
   ]
  }
 ],
 "metadata": {
  "kernelspec": {
   "display_name": "base",
   "language": "python",
   "name": "python3"
  },
  "language_info": {
   "codemirror_mode": {
    "name": "ipython",
    "version": 3
   },
   "file_extension": ".py",
   "mimetype": "text/x-python",
   "name": "python",
   "nbconvert_exporter": "python",
   "pygments_lexer": "ipython3",
   "version": "3.11.3"
  },
  "orig_nbformat": 4
 },
 "nbformat": 4,
 "nbformat_minor": 2
}
