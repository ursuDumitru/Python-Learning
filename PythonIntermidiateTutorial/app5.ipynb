{
 "cells": [
  {
   "cell_type": "markdown",
   "metadata": {},
   "source": [
    "5. Sockets and Network Programming\n",
    "\n",
    "a socket is the end point of a communication channel\n",
    "networks have at lest 2 sockets\n",
    "\n",
    "tcp - to not lose data\n",
    "udp - video calls\n",
    "\n",
    "Sockets in Python refer to a programming interface that enables network communication between different devices, processes, or programs over a network. They provide a mechanism for sending and receiving data between a client and a server, or between two peers. Sockets are essential for building various types of network applications, including web servers, chat applications, file transfer protocols, and more."
   ]
  },
  {
   "cell_type": "code",
   "execution_count": 1,
   "metadata": {},
   "outputs": [],
   "source": [
    "# SOCKET\n",
    "# DON'T NAME YOUR FILE 'socket.py'\n",
    "import socket\n",
    "\n",
    "# an internet socket that uses TCP\n",
    "s = socket.socket(socket.AF_INET, socket.SOCK_STREAM)\n",
    "s.bind(('127.0.0.1', 55555)) # this is the socket that we want our socket to run on\n",
    "s.listen() # constantly listening to possible clients\n",
    "\n",
    "while True:\n",
    "    client, address = s.accept() # when something tries to connect to our socket\n",
    "    print(\"Connected to {}\".format(address))\n",
    "    client.send(\"You are connected\".encode())\n",
    "    client.close() # we have to close it so that there won't remain zombie clients"
   ]
  },
  {
   "cell_type": "code",
   "execution_count": null,
   "metadata": {},
   "outputs": [],
   "source": [
    "# CLIENT\n",
    "import socket\n",
    "\n",
    "s = socket.socket(socket.AF_INET, socket.SOCK_STREAM)\n",
    "s.connect(('127.0.0.1', 55555))\n",
    "message =  s.recv(1024) # bites to recieve\n",
    "s.close()\n",
    "\n",
    "print(message.decode())"
   ]
  },
  {
   "cell_type": "markdown",
   "metadata": {},
   "source": [
    "TCP (Transmission Control Protocol):\n",
    "\n",
    "TCP is a connection-oriented protocol. This means that before data exchange occurs, a connection is established between the sender and the receiver. TCP ensures reliable, ordered, and error-checked delivery of data.\n",
    "\n",
    "Key features of TCP:\n",
    "\n",
    "Guaranteed delivery: TCP ensures that all sent data is received by the destination and in the correct order.\n",
    "Error checking: TCP includes error-checking mechanisms to detect and recover from any data transmission errors.\n",
    "Flow control: TCP regulates the flow of data to prevent overwhelming the receiver.\n",
    "Connection-oriented: A connection is established before data transmission begins, and it is closed after the data exchange is complete.\n",
    "TCP is suitable for applications where data integrity and reliability are crucial, such as file transfer, email, and web browsing.\n",
    "\n",
    "UDP (User Datagram Protocol):\n",
    "\n",
    "UDP is a connectionless protocol. It does not establish a formal connection between sender and receiver before sending data. Instead, data packets, called datagrams, are sent without any assurance of their delivery or order.\n",
    "\n",
    "Key features of UDP:\n",
    "\n",
    "No guaranteed delivery: UDP does not ensure that all data is received, and the order of delivery is not guaranteed.\n",
    "No error checking: Unlike TCP, UDP does not have built-in error-checking mechanisms.\n",
    "Lower overhead: UDP has less overhead than TCP since it lacks the extra mechanisms for reliability and ordering.\n",
    "Connectionless: There is no formal connection setup or teardown in UDP.\n",
    "UDP is suitable for applications where speed and minimal overhead are more important than reliability, such as real-time video streaming, online gaming, and DNS."
   ]
  }
 ],
 "metadata": {
  "kernelspec": {
   "display_name": "base",
   "language": "python",
   "name": "python3"
  },
  "language_info": {
   "codemirror_mode": {
    "name": "ipython",
    "version": 3
   },
   "file_extension": ".py",
   "mimetype": "text/x-python",
   "name": "python",
   "nbconvert_exporter": "python",
   "pygments_lexer": "ipython3",
   "version": "3.11.3"
  },
  "orig_nbformat": 4
 },
 "nbformat": 4,
 "nbformat_minor": 2
}
