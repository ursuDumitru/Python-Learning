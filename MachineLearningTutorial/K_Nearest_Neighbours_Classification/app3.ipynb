{
 "cells": [
  {
   "cell_type": "markdown",
   "metadata": {},
   "source": [
    "# K-Nearest Neighbors Classification\n",
    "\n",
    "Classification is a supervised learning process that categorizes\n",
    "data into classes. One of the most popular classification algorithms\n",
    "in machine learning is the K-Nearest Neighbors classification.\n",
    "As the name already tells us, this algorithm works by looking at the\n",
    "nearest neighbors of a point to determine its class.\n",
    "\n",
    "( https://www.neuralnine.com/k-nearest-neighbors-classification-from-scratch-in-python/ )\n",
    "\n",
    "Classify unknown data by the data that is already classified\n",
    "\n",
    "k = the amount of neighbours it compares the new data to\n",
    "k - should not be divisible by the amount of categories we have, also different than 1"
   ]
  },
  {
   "cell_type": "code",
   "execution_count": 88,
   "metadata": {},
   "outputs": [
    {
     "name": "stdout",
     "output_type": "stream",
     "text": [
      "['mean radius' 'mean texture' 'mean perimeter' 'mean area'\n",
      " 'mean smoothness' 'mean compactness' 'mean concavity'\n",
      " 'mean concave points' 'mean symmetry' 'mean fractal dimension'\n",
      " 'radius error' 'texture error' 'perimeter error' 'area error'\n",
      " 'smoothness error' 'compactness error' 'concavity error'\n",
      " 'concave points error' 'symmetry error' 'fractal dimension error'\n",
      " 'worst radius' 'worst texture' 'worst perimeter' 'worst area'\n",
      " 'worst smoothness' 'worst compactness' 'worst concavity'\n",
      " 'worst concave points' 'worst symmetry' 'worst fractal dimension']\n",
      "['malignant' 'benign']\n"
     ]
    },
    {
     "name": "stdout",
     "output_type": "stream",
     "text": [
      "0.9415204678362573\n"
     ]
    }
   ],
   "source": [
    "from sklearn.datasets import load_breast_cancer\n",
    "from sklearn.neighbors import KNeighborsClassifier\n",
    "from sklearn.model_selection import train_test_split\n",
    "import numpy as np\n",
    "\n",
    "data = load_breast_cancer()\n",
    "\n",
    "print(data.feature_names)\n",
    "print(data.target_names)\n",
    "\n",
    "x_train, x_test, y_train, y_test = train_test_split(np.array(data.data), np.array(data.target), test_size=0.3)\n",
    "\n",
    "clf = KNeighborsClassifier(n_neighbors=3) # classifier\n",
    "clf.fit(x_train, y_train)\n",
    "\n",
    "print(clf.score(x_test, y_test))\n",
    "\n",
    "# clf.predict([]) # if you want to predict data, use this here"
   ]
  }
 ],
 "metadata": {
  "kernelspec": {
   "display_name": "base",
   "language": "python",
   "name": "python3"
  },
  "language_info": {
   "codemirror_mode": {
    "name": "ipython",
    "version": 3
   },
   "file_extension": ".py",
   "mimetype": "text/x-python",
   "name": "python",
   "nbconvert_exporter": "python",
   "pygments_lexer": "ipython3",
   "version": "3.11.3"
  },
  "orig_nbformat": 4
 },
 "nbformat": 4,
 "nbformat_minor": 2
}
